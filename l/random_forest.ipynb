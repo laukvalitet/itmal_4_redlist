{
 "metadata": {
  "language_info": {
   "codemirror_mode": {
    "name": "ipython",
    "version": 3
   },
   "file_extension": ".py",
   "mimetype": "text/x-python",
   "name": "python",
   "nbconvert_exporter": "python",
   "pygments_lexer": "ipython3",
   "version": "3.9.4"
  },
  "orig_nbformat": 2,
  "kernelspec": {
   "name": "python394jvsc74a57bd0aee8b7b246df8f9039afb4144a1f6fd8d2ca17a180786b69acc140d282b71a49",
   "display_name": "Python 3.9.4 64-bit"
  },
  "metadata": {
   "interpreter": {
    "hash": "aee8b7b246df8f9039afb4144a1f6fd8d2ca17a180786b69acc140d282b71a49"
   }
  }
 },
 "nbformat": 4,
 "nbformat_minor": 2,
 "cells": [
  {
   "cell_type": "code",
   "execution_count": 7,
   "metadata": {},
   "outputs": [
    {
     "output_type": "stream",
     "name": "stderr",
     "text": [
      "/usr/local/lib/python3.9/site-packages/category_encoders/utils.py:21: FutureWarning: is_categorical is deprecated and will be removed in a future version.  Use is_categorical_dtype instead\n",
      "  elif pd.api.types.is_categorical(cols):\n",
      "/usr/local/lib/python3.9/site-packages/category_encoders/utils.py:21: FutureWarning: is_categorical is deprecated and will be removed in a future version.  Use is_categorical_dtype instead\n",
      "  elif pd.api.types.is_categorical(cols):\n",
      "[0.68439716 0.68439716 0.65124555 0.67615658 0.65836299]\n"
     ]
    }
   ],
   "source": [
    "from sklearn.pipeline import Pipeline\n",
    "import pandas as pd\n",
    "import category_encoders as ce\n",
    "from sklearn.ensemble import RandomForestClassifier\n",
    "from sklearn.model_selection import cross_val_score \n",
    "\n",
    "\n",
    "eu_red_list = pd.read_csv(\"/Users/kristianjespersen/Documents/IKT/6_semester/ITMAL/itmal_4_redlist/datasets_ready/eu_red_list_train.csv\")\n",
    "\n",
    "\n",
    "\n",
    "encoder_pipeline = Pipeline([\n",
    "  ('featureEncoding', ce.OneHotEncoder(cols=['speciesGroup','taxonomicRankKingdom','taxonomicRankPhylum','taxonomicRankClass','taxonomicRankOrder','taxonomicRankFamily','taxonomicRankGenus','taxonomicRankSpecies','endemicToEurope','populationTrend','useAndTrade'], return_df=True)),\n",
    "  ('targetEncoding', ce.OrdinalEncoder(cols=['europeanRegionalRedListCategory'], return_df=True))\n",
    "])\n",
    "\n",
    "encoded = encoder_pipeline.fit_transform(eu_red_list)\n",
    "X = encoded.iloc[:,:-1]\n",
    "y = encoded.iloc[:,-1]\n",
    "print(cross_val_score(RandomForestClassifier(),X,y,cv=5))\n",
    "\n",
    "# Quite bad, going to try out different encoders.\n",
    "\n",
    "# Logistisk regression\n",
    "# Random forest\n",
    "# MLP classifier\n",
    "\n",
    "#encoded_X = OneHotEncoder(handle_unknown='ignore').fit_transform(X)\n",
    "#encoded_y = LabelEncoder().fit_transform(y)\n",
    "\n",
    "\n"
   ]
  },
  {
   "cell_type": "code",
   "execution_count": null,
   "metadata": {},
   "outputs": [],
   "source": []
  },
  {
   "cell_type": "code",
   "execution_count": null,
   "metadata": {},
   "outputs": [],
   "source": []
  },
  {
   "cell_type": "code",
   "execution_count": null,
   "metadata": {},
   "outputs": [],
   "source": []
  }
 ]
}