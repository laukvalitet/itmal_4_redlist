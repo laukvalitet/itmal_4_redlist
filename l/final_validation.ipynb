{
 "metadata": {
  "language_info": {
   "codemirror_mode": {
    "name": "ipython",
    "version": 3
   },
   "file_extension": ".py",
   "mimetype": "text/x-python",
   "name": "python",
   "nbconvert_exporter": "python",
   "pygments_lexer": "ipython3",
   "version": "3.9.4"
  },
  "orig_nbformat": 2,
  "kernelspec": {
   "name": "python394jvsc74a57bd0aee8b7b246df8f9039afb4144a1f6fd8d2ca17a180786b69acc140d282b71a49",
   "display_name": "Python 3.9.4 64-bit"
  },
  "metadata": {
   "interpreter": {
    "hash": "aee8b7b246df8f9039afb4144a1f6fd8d2ca17a180786b69acc140d282b71a49"
   }
  }
 },
 "nbformat": 4,
 "nbformat_minor": 2,
 "cells": [
  {
   "cell_type": "code",
   "execution_count": 6,
   "metadata": {},
   "outputs": [
    {
     "output_type": "stream",
     "name": "stderr",
     "text": [
      "/usr/local/lib/python3.9/site-packages/category_encoders/utils.py:21: FutureWarning: is_categorical is deprecated and will be removed in a future version.  Use is_categorical_dtype instead\n",
      "  elif pd.api.types.is_categorical(cols):\n",
      "/usr/local/lib/python3.9/site-packages/category_encoders/utils.py:21: FutureWarning: is_categorical is deprecated and will be removed in a future version.  Use is_categorical_dtype instead\n",
      "  elif pd.api.types.is_categorical(cols):\n",
      "/usr/local/lib/python3.9/site-packages/sklearn/utils/validation.py:63: DataConversionWarning: A column-vector y was passed when a 1d array was expected. Please change the shape of y to (n_samples, ), for example using ravel().\n",
      "  return f(*args, **kwargs)\n",
      "ACCURACY: 0.6804635761589404\n",
      "PRECISION: 0.664318000832386\n",
      "RECALL: 0.6804635761589404\n"
     ]
    }
   ],
   "source": [
    "import category_encoders as ce\n",
    "import pandas as pd\n",
    "from sklearn.ensemble import GradientBoostingClassifier\n",
    "from sklearn.metrics import accuracy_score, recall_score, precision_score, f1_score\n",
    "\n",
    "eu_red_list_train = pd.read_csv(\"/Users/kristianjespersen/Documents/IKT/6_semester/ITMAL/itmal_4_redlist/datasets_ready/eu_red_list_train.csv\")\n",
    "\n",
    "eu_red_list_validation = pd.read_csv(\"/Users/kristianjespersen/Documents/IKT/6_semester/ITMAL/itmal_4_redlist/datasets_ready/eu_red_list_validation.csv\")\n",
    "\n",
    "X_train = eu_red_list_train.iloc[:,:-1]\n",
    "y_train = eu_red_list_train.iloc[:,-1]\n",
    "\n",
    "X_validation = eu_red_list_validation.iloc[:,:-1]\n",
    "y_validation = eu_red_list_validation.iloc[:,-1]\n",
    "\n",
    "target_mapping = {'LC': 0, 'NT': 1, 'EN': 2, 'VU': 3, 'CR': 4, 'DD': 5, 'CR (PE)': 6}\n",
    "\n",
    "#Instantiate encoders\n",
    "target_encoder = ce.TargetEncoder()\n",
    "ordinal_encoder =  ce.OrdinalEncoder(cols=['europeanRegionalRedListCategory'], mapping=[{'col': 'europeanRegionalRedListCategory','mapping': target_mapping }], return_df=True)\n",
    "\n",
    "#Encode\n",
    "y_train_encoded = ordinal_encoder.fit_transform(y_train)\n",
    "X_train_encoded = target_encoder.fit_transform(X_train, y_train_encoded)\n",
    "\n",
    "#Re-Instantiate encoders for good measure\n",
    "target_encoder = ce.TargetEncoder()\n",
    "ordinal_encoder =  ce.OrdinalEncoder(cols=['europeanRegionalRedListCategory'], mapping=[{'col': 'europeanRegionalRedListCategory','mapping': target_mapping }], return_df=True)\n",
    "\n",
    "#Encode\n",
    "y_validation_encoded = ordinal_encoder.fit_transform(y_validation)\n",
    "X_validation_encoded = target_encoder.fit_transform(X_validation, y_validation_encoded)\n",
    "\n",
    "\n",
    "\n",
    "model = GradientBoostingClassifier()\n",
    "model.fit(X_train_encoded, y_train_encoded)\n",
    "\n",
    "y_pred_validation = model.predict(X_validation_encoded)\n",
    "accuracy = accuracy_score(y_validation_encoded,y_pred_validation)\n",
    "precision = precision_score(y_validation_encoded,y_pred_validation, average='weighted')\n",
    "recall = recall_score(y_validation_encoded,y_pred_validation, average='weighted')\n",
    "\n",
    "print(\"ACCURACY:\",accuracy )\n",
    "print(\"PRECISION:\", precision)\n",
    "print(\"RECALL:\", recall)\n",
    "\n",
    "\n"
   ]
  },
  {
   "cell_type": "code",
   "execution_count": null,
   "metadata": {},
   "outputs": [],
   "source": []
  }
 ]
}