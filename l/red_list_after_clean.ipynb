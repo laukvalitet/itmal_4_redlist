{
 "metadata": {
  "language_info": {
   "codemirror_mode": {
    "name": "ipython",
    "version": 3
   },
   "file_extension": ".py",
   "mimetype": "text/x-python",
   "name": "python",
   "nbconvert_exporter": "python",
   "pygments_lexer": "ipython3",
   "version": "3.7.9"
  },
  "orig_nbformat": 2,
  "kernelspec": {
   "name": "python379jvsc74a57bd09cc2f03e2363e421ec578166ef18123822d857761ffb8b537066e523d048e691",
   "display_name": "Python 3.7.9 64-bit ('tf2': conda)"
  }
 },
 "nbformat": 4,
 "nbformat_minor": 2,
 "cells": [
  {
   "cell_type": "code",
   "execution_count": 44,
   "metadata": {},
   "outputs": [],
   "source": [
    "import pandas as pd\n",
    "eu_red_list = pd.read_csv(\"cleaner copy.csv\")"
   ]
  },
  {
   "cell_type": "code",
   "execution_count": 45,
   "metadata": {},
   "outputs": [
    {
     "output_type": "stream",
     "name": "stdout",
     "text": [
      "not utilized    5157\nutilized        1000\nno info          181\nextinct            5\nName: useAndTrade, dtype: int64\n"
     ]
    }
   ],
   "source": [
    "print(eu_red_list['useAndTrade'].value_counts())"
   ]
  },
  {
   "cell_type": "code",
   "execution_count": 46,
   "metadata": {},
   "outputs": [],
   "source": [
    "eu_red_list = eu_red_list[eu_red_list.useAndTrade!='no info']"
   ]
  },
  {
   "cell_type": "code",
   "execution_count": 47,
   "metadata": {},
   "outputs": [
    {
     "output_type": "stream",
     "name": "stdout",
     "text": [
      "not utilized    5157\nutilized        1000\nextinct            5\nName: useAndTrade, dtype: int64\n"
     ]
    }
   ],
   "source": [
    "print(eu_red_list['useAndTrade'].value_counts())"
   ]
  },
  {
   "cell_type": "code",
   "execution_count": 58,
   "metadata": {},
   "outputs": [
    {
     "output_type": "stream",
     "name": "stdout",
     "text": [
      "speciesGroup:\n\ntaxonomicRankKingdom:\n\ntaxonomicRankPhylum:\n\ntaxonomicRankClass:\n\ntaxonomicRankOrder:\n\ntaxonomicRankFamily:\n\ntaxonomicRankGenus:\n\ntaxonomicRankSpecies:\n\nendemicToEurope:\n\npopulationTrend:\n\nuseAndTrade:\n\neuropeanRegionalRedListCategory:\n\n"
     ]
    }
   ],
   "source": [
    "for column in eu_red_list.columns:\n",
    "    print(column+\":\")\n",
    "    #print(eu_red_list[column].value_counts())\n",
    "    print()"
   ]
  },
  {
   "cell_type": "code",
   "execution_count": 57,
   "metadata": {},
   "outputs": [],
   "source": [
    "#Rearrange\n",
    "eu_red_list = eu_red_list[['speciesGroup', 'taxonomicRankKingdom', 'taxonomicRankPhylum', 'taxonomicRankClass', 'taxonomicRankOrder','taxonomicRankFamily', 'taxonomicRankGenus', 'taxonomicRankSpecies', 'endemicToEurope', 'populationTrend', 'useAndTrade','europeanRegionalRedListCategory']]\n"
   ]
  },
  {
   "cell_type": "code",
   "execution_count": 49,
   "metadata": {},
   "outputs": [],
   "source": [
    "eu_red_list_with_no_population_trend = eu_red_list.drop(\"populationTrend\",axis=1, inplace=False)"
   ]
  },
  {
   "cell_type": "code",
   "execution_count": 50,
   "metadata": {},
   "outputs": [],
   "source": [
    "eu_red_list_with_no_population_trend = eu_red_list.drop(\"taxonomicRankKingdom\",axis=1, inplace=False)"
   ]
  },
  {
   "cell_type": "code",
   "execution_count": 51,
   "metadata": {},
   "outputs": [],
   "source": [
    "temp = eu_red_list[eu_red_list.populationTrend != 'Unknown']\n",
    "eu_red_list_without_unknown_population_trends = temp[temp.populationTrend != '0']\n"
   ]
  },
  {
   "cell_type": "code",
   "execution_count": 52,
   "metadata": {},
   "outputs": [
    {
     "output_type": "stream",
     "name": "stdout",
     "text": [
      "Stable        1135\nDecreasing     777\nIncreasing      99\nName: populationTrend, dtype: int64\n"
     ]
    }
   ],
   "source": [
    "print(eu_red_list_without_unknown_population_trends[\"populationTrend\"].value_counts())"
   ]
  },
  {
   "cell_type": "code",
   "execution_count": 53,
   "metadata": {},
   "outputs": [],
   "source": [
    "with open(\"eu_red_list_with_no_population_trend.csv\",\"w\") as f:\n",
    "    eu_red_list_with_no_population_trend.to_csv(f)"
   ]
  },
  {
   "cell_type": "code",
   "execution_count": 54,
   "metadata": {},
   "outputs": [],
   "source": [
    "with open(\"eu_red_list_without_unknown_population_trends.csv\",\"w\") as f:\n",
    "    eu_red_list_without_unknown_population_trends.to_csv(f)"
   ]
  }
 ]
}