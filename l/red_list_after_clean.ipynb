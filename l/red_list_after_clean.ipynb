{
 "metadata": {
  "language_info": {
   "codemirror_mode": {
    "name": "ipython",
    "version": 3
   },
   "file_extension": ".py",
   "mimetype": "text/x-python",
   "name": "python",
   "nbconvert_exporter": "python",
   "pygments_lexer": "ipython3",
   "version": "3.7.9"
  },
  "orig_nbformat": 2,
  "kernelspec": {
   "name": "python379jvsc74a57bd09cc2f03e2363e421ec578166ef18123822d857761ffb8b537066e523d048e691",
   "display_name": "Python 3.7.9 64-bit ('tf2': conda)"
  }
 },
 "nbformat": 4,
 "nbformat_minor": 2,
 "cells": [
  {
   "cell_type": "code",
   "execution_count": 72,
   "metadata": {},
   "outputs": [],
   "source": [
    "import pandas as pd\n",
    "eu_red_list = pd.read_csv(\"cleaner copy.csv\")"
   ]
  },
  {
   "cell_type": "code",
   "execution_count": 73,
   "metadata": {},
   "outputs": [
    {
     "output_type": "stream",
     "name": "stdout",
     "text": [
      "not utilized    5157\nutilized        1000\nno info          181\nextinct            5\nName: useAndTrade, dtype: int64\n"
     ]
    }
   ],
   "source": [
    "print(eu_red_list['useAndTrade'].value_counts())"
   ]
  },
  {
   "cell_type": "code",
   "execution_count": 74,
   "metadata": {},
   "outputs": [],
   "source": [
    "eu_red_list = eu_red_list[eu_red_list.useAndTrade!='no info']"
   ]
  },
  {
   "cell_type": "code",
   "execution_count": 75,
   "metadata": {},
   "outputs": [
    {
     "output_type": "stream",
     "name": "stdout",
     "text": [
      "gracilis       13\ncanariensis    12\nbicolor        10\niberica         9\nlusitanica      9\n               ..\nconspurcata     1\nnovacula        1\nsakagamii       1\nkirka           1\nsubauratus      1\nName: taxonomicRankSpecies, Length: 4728, dtype: int64\n"
     ]
    }
   ],
   "source": [
    "print(eu_red_list['taxonomicRankSpecies'].value_counts())"
   ]
  },
  {
   "cell_type": "code",
   "execution_count": 76,
   "metadata": {},
   "outputs": [
    {
     "output_type": "stream",
     "name": "stdout",
     "text": [
      "Unnamed: 0:\n\nspeciesGroup:\n\ntaxonomicRankKingdom:\n\ntaxonomicRankPhylum:\n\ntaxonomicRankClass:\n\ntaxonomicRankOrder:\n\ntaxonomicRankFamily:\n\ntaxonomicRankGenus:\n\ntaxonomicRankSpecies:\n\nendemicToEurope:\n\neuropeanRegionalRedListCategory:\n\npopulationTrend:\n\nuseAndTrade:\n\n"
     ]
    }
   ],
   "source": [
    "for column in eu_red_list.columns:\n",
    "    print(column+\":\")\n",
    "    #print(eu_red_list[column].value_counts())\n",
    "    print()"
   ]
  },
  {
   "cell_type": "code",
   "execution_count": 77,
   "metadata": {},
   "outputs": [],
   "source": [
    "#Rearrange\n",
    "eu_red_list = eu_red_list[['speciesGroup', 'taxonomicRankKingdom', 'taxonomicRankPhylum', 'taxonomicRankClass', 'taxonomicRankOrder','taxonomicRankFamily', 'taxonomicRankGenus', 'taxonomicRankSpecies', 'endemicToEurope', 'populationTrend', 'useAndTrade','europeanRegionalRedListCategory']]\n"
   ]
  },
  {
   "cell_type": "code",
   "execution_count": 78,
   "metadata": {},
   "outputs": [],
   "source": [
    "eu_red_list_with_no_population_trend = eu_red_list.drop(\"populationTrend\",axis=1, inplace=False)"
   ]
  },
  {
   "cell_type": "code",
   "execution_count": 79,
   "metadata": {},
   "outputs": [],
   "source": [
    "#Removing because it is different for all animals\n",
    "eu_red_list_with_no_population_trend = eu_red_list.drop(\"taxonomicRankSpecies\",axis=1, inplace=False)"
   ]
  },
  {
   "cell_type": "code",
   "execution_count": 80,
   "metadata": {},
   "outputs": [],
   "source": [
    "eu_red_list_with_no_population_trend = eu_red_list.drop(\"taxonomicRankKingdom\",axis=1, inplace=False)"
   ]
  },
  {
   "cell_type": "code",
   "execution_count": 81,
   "metadata": {},
   "outputs": [],
   "source": [
    "temp = eu_red_list[eu_red_list.populationTrend != 'Unknown']\n",
    "eu_red_list_without_unknown_population_trends = temp[temp.populationTrend != '0']\n"
   ]
  },
  {
   "cell_type": "code",
   "execution_count": 82,
   "metadata": {},
   "outputs": [
    {
     "output_type": "stream",
     "name": "stdout",
     "text": [
      "Stable        1135\nDecreasing     777\nIncreasing      99\nName: populationTrend, dtype: int64\n"
     ]
    }
   ],
   "source": [
    "print(eu_red_list_without_unknown_population_trends[\"populationTrend\"].value_counts())"
   ]
  },
  {
   "cell_type": "code",
   "execution_count": 83,
   "metadata": {},
   "outputs": [],
   "source": [
    "with open(\"eu_red_list_with_no_population_trend.csv\",\"w\") as f:\n",
    "    eu_red_list_with_no_population_trend.to_csv(f)"
   ]
  },
  {
   "cell_type": "code",
   "execution_count": 84,
   "metadata": {},
   "outputs": [],
   "source": [
    "with open(\"eu_red_list_without_unknown_population_trends.csv\",\"w\") as f:\n",
    "    eu_red_list_without_unknown_population_trends.to_csv(f)"
   ]
  },
  {
   "cell_type": "code",
   "execution_count": null,
   "metadata": {},
   "outputs": [],
   "source": []
  }
 ]
}