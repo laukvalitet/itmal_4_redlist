{
 "metadata": {
  "language_info": {
   "codemirror_mode": {
    "name": "ipython",
    "version": 3
   },
   "file_extension": ".py",
   "mimetype": "text/x-python",
   "name": "python",
   "nbconvert_exporter": "python",
   "pygments_lexer": "ipython3",
   "version": "3.7.9"
  },
  "orig_nbformat": 2,
  "kernelspec": {
   "name": "python379jvsc74a57bd09cc2f03e2363e421ec578166ef18123822d857761ffb8b537066e523d048e691",
   "display_name": "Python 3.7.9 64-bit ('tf2': conda)"
  }
 },
 "nbformat": 4,
 "nbformat_minor": 2,
 "cells": [
  {
   "cell_type": "code",
   "execution_count": 22,
   "metadata": {},
   "outputs": [],
   "source": [
    "import pandas as pd\n",
    "eu_red_list = pd.read_csv(\"cleaner copy.csv\")"
   ]
  },
  {
   "cell_type": "code",
   "execution_count": 23,
   "metadata": {},
   "outputs": [
    {
     "output_type": "stream",
     "name": "stdout",
     "text": [
      "not utilized    5157\nutilized        1000\nno info          181\nextinct            5\nName: useAndTrade, dtype: int64\n"
     ]
    }
   ],
   "source": [
    "print(eu_red_list['useAndTrade'].value_counts())"
   ]
  },
  {
   "cell_type": "code",
   "execution_count": 24,
   "metadata": {},
   "outputs": [],
   "source": [
    "eu_red_list = eu_red_list[eu_red_list.useAndTrade!='no info']"
   ]
  },
  {
   "cell_type": "code",
   "execution_count": 25,
   "metadata": {},
   "outputs": [
    {
     "output_type": "stream",
     "name": "stdout",
     "text": [
      "not utilized    5157\nutilized        1000\nextinct            5\nName: useAndTrade, dtype: int64\n"
     ]
    }
   ],
   "source": [
    "print(eu_red_list['useAndTrade'].value_counts())"
   ]
  },
  {
   "cell_type": "code",
   "execution_count": 32,
   "metadata": {},
   "outputs": [
    {
     "output_type": "stream",
     "name": "stdout",
     "text": [
      "Unnamed: 0:\n2047     1\n741      1\n665      1\n6810     1\n4763     1\n        ..\n7409     1\n1266     1\n11507    1\n5364     1\n2049     1\nName: Unnamed: 0, Length: 6162, dtype: int64\n\nspeciesGroup:\nBees                             1942\nGrasshoppers_Locusts_Crickets    1075\nTerrestrial_Molluscs              993\nMarine_Fishes                     912\nSaproxylic_Beetles                679\nFreshwater_Molluscs               517\nFreshwater_Fishes                  44\nName: speciesGroup, dtype: int64\n\ntaxonomicRankKingdom:\nANIMALIA    6162\nName: taxonomicRankKingdom, dtype: int64\n\ntaxonomicRankPhylum:\nARTHROPODA    3696\nMOLLUSCA      1510\nCHORDATA       956\nName: taxonomicRankPhylum, dtype: int64\n\ntaxonomicRankClass:\nINSECTA               3696\nGASTROPODA            1469\nACTINOPTERYGII         841\nCHONDRICHTHYES         111\nBIVALVIA                41\nCEPHALASPIDOMORPHI       2\nMYXINI                   2\nName: taxonomicRankClass, dtype: int64\n\ntaxonomicRankOrder:\nHYMENOPTERA             1942\nORTHOPTERA              1075\nSTYLOMMATOPHORA          952\nCOLEOPTERA               679\nLITTORINIMORPHA          403\nPERCIFORMES              288\nGADIFORMES                71\nSTOMIIFORMES              57\nOSMERIFORMES              54\nANGUILLIFORMES            45\nRAJIFORMES                44\nHYGROPHILA                44\nARCHITAENIOGLOSSA         44\nPLEURONECTIFORMES         42\nSCORPAENIFORMES           39\nMYCTOPHIFORMES            29\nOPHIDIIFORMES             28\nAULOPIFORMES              27\nVENEROIDA                 26\nCARCHARHINIFORMES         24\nLOPHIIFORMES              21\nSQUALIFORMES              21\nSALMONIFORMES             18\nSYNGNATHIFORMES           17\nUNIONOIDA                 15\nBELONIFORMES              13\nTETRAODONTIFORMES         13\nCYPRINIFORMES             11\nGOBIESOCIFORMES           11\nSORBEOCONCHA              10\nCHIMAERIFORMES             9\nNOTACANTHIFORMES           8\nLAMNIFORMES                8\nACIPENSERIFORMES           8\nALLOGASTROPODA             8\nCYCLONERITIMORPHA          7\nCLUPEIFORMES               7\nLAMPRIFORMES               6\nBERYCIFORMES               6\nSACCOPHARYNGIFORMES        5\nHEXANCHIFORMES             4\nZEIFORMES                  4\nSTEPHANOBERYCIFORMES       3\nCETOMIMIFORMES             3\nMYXINIFORMES               2\nATHERINIFORMES             2\nPETROMYZONTIFORMES         2\nEUPULMONATA                1\nSQUATINIFORMES             1\nPOLYMIXIIFORMES            1\nGASTEROSTEIFORMES          1\nMUGILIFORMES               1\nBATRACHOIDIFORMES          1\nATELEOPODIFORMES           1\nName: taxonomicRankOrder, dtype: int64\n\ntaxonomicRankFamily:\nAPIDAE           561\nANDRENIDAE       455\nMEGACHILIDAE     441\nHYGROMIIDAE      351\nTETTIGONIIDAE    348\n                ... \nMORONIDAE          1\nMELANDRYIDAE       1\nATELEOPODIDAE      1\nAPOGONIDAE         1\nPERISTEDIIDAE      1\nName: taxonomicRankFamily, Length: 281, dtype: int64\n\ntaxonomicRankGenus:\nAndrena          413\nNomada           179\nLasioglossum     156\nOsmia            101\nHoplitis         100\n                ... \nParadrymadusa      1\nChondrostoma       1\nLymnaea            1\nLauria             1\nLeuciscus          1\nName: taxonomicRankGenus, Length: 1373, dtype: int64\n\ntaxonomicRankSpecies:\ngracilis       13\ncanariensis    12\nbicolor        10\niberica         9\nlusitanica      9\n               ..\nconspurcata     1\nnovacula        1\nsakagamii       1\nkirka           1\nsubauratus      1\nName: taxonomicRankSpecies, Length: 4728, dtype: int64\n\nendemicToEurope:\nNo     3251\nYes    2911\nName: endemicToEurope, dtype: int64\n\neuropeanRegionalRedListCategory:\nLC         2873\nDD         1773\nNT          579\nVU          403\nEN          326\nCR          196\nCR (PE)       7\nEX            5\nName: europeanRegionalRedListCategory, dtype: int64\n\npopulationTrend:\nUnknown       4146\nStable        1135\nDecreasing     777\nIncreasing      99\n0                5\nName: populationTrend, dtype: int64\n\nuseAndTrade:\nnot utilized    5157\nutilized        1000\nextinct            5\nName: useAndTrade, dtype: int64\n\n"
     ]
    }
   ],
   "source": [
    "for column in eu_red_list.columns:\n",
    "    print(column+\":\")\n",
    "    print(eu_red_list[column].value_counts())\n",
    "    print()"
   ]
  },
  {
   "cell_type": "code",
   "execution_count": 31,
   "metadata": {},
   "outputs": [],
   "source": [
    "eu_red_list_with_no_population_trend = eu_red_list.drop(\"populationTrend\",axis=1, inplace=False)"
   ]
  },
  {
   "cell_type": "code",
   "execution_count": null,
   "metadata": {},
   "outputs": [],
   "source": [
    "eu_red_list_with_no_population_trend = eu_red_list.drop(\"taxonomicRankKingdom\",axis=1, inplace=False)"
   ]
  },
  {
   "cell_type": "code",
   "execution_count": 38,
   "metadata": {},
   "outputs": [],
   "source": [
    "temp = eu_red_list[eu_red_list.populationTrend != 'Unknown']\n",
    "eu_red_list_without_unknown_population_trends = temp[temp.populationTrend != '0']\n"
   ]
  },
  {
   "cell_type": "code",
   "execution_count": 39,
   "metadata": {},
   "outputs": [
    {
     "output_type": "stream",
     "name": "stdout",
     "text": [
      "Stable        1135\nDecreasing     777\nIncreasing      99\nName: populationTrend, dtype: int64\n"
     ]
    }
   ],
   "source": [
    "print(eu_red_list_without_unknown_population_trends[\"populationTrend\"].value_counts())"
   ]
  },
  {
   "cell_type": "code",
   "execution_count": 40,
   "metadata": {},
   "outputs": [],
   "source": [
    "with open(\"eu_red_list_with_no_population_trend.csv\",\"w\") as f:\n",
    "    eu_red_list_with_no_population_trend.to_csv(f)"
   ]
  },
  {
   "cell_type": "code",
   "execution_count": 41,
   "metadata": {},
   "outputs": [],
   "source": [
    "with open(\"eu_red_list_without_unknown_population_trends.csv\",\"w\") as f:\n",
    "    eu_red_list_without_unknown_population_trends.to_csv(f)"
   ]
  },
  {
   "cell_type": "code",
   "execution_count": null,
   "metadata": {},
   "outputs": [],
   "source": []
  }
 ]
}