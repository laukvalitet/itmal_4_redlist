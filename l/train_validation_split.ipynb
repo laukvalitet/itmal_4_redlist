{
 "metadata": {
  "language_info": {
   "codemirror_mode": {
    "name": "ipython",
    "version": 3
   },
   "file_extension": ".py",
   "mimetype": "text/x-python",
   "name": "python",
   "nbconvert_exporter": "python",
   "pygments_lexer": "ipython3",
   "version": "3.7.9"
  },
  "orig_nbformat": 2,
  "kernelspec": {
   "name": "python379jvsc74a57bd09cc2f03e2363e421ec578166ef18123822d857761ffb8b537066e523d048e691",
   "display_name": "Python 3.7.9 64-bit ('tf2': conda)"
  }
 },
 "nbformat": 4,
 "nbformat_minor": 2,
 "cells": [
  {
   "cell_type": "code",
   "execution_count": 1,
   "metadata": {},
   "outputs": [],
   "source": [
    "from sklearn.model_selection import train_test_split\n",
    "import pandas as pd\n",
    "\n",
    "eu_red_list_without_unknown_population_trends = pd.read_csv(\"/Users/kristianjespersen/Documents/IKT/6_semester/ITMAL/itmal_4_redlist/datasets_ready/eu_red_list_without_unknown_population_trends.csv\")\n",
    "\n",
    "train, validation = train_test_split(eu_red_list_without_unknown_population_trends, test_size=0.3)\n",
    "\n",
    "with open(\"eu_red_list_train.csv\",\"w\") as f:\n",
    "    train.to_csv(f)\n",
    "\n",
    "with open(\"eu_red_list_validation.csv\",\"w\") as f:\n",
    "    validation.to_csv(f)"
   ]
  },
  {
   "cell_type": "code",
   "execution_count": null,
   "metadata": {},
   "outputs": [],
   "source": []
  }
 ]
}