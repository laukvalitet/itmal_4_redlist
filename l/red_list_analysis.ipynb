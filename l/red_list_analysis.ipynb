{
 "metadata": {
  "language_info": {
   "codemirror_mode": {
    "name": "ipython",
    "version": 3
   },
   "file_extension": ".py",
   "mimetype": "text/x-python",
   "name": "python",
   "nbconvert_exporter": "python",
   "pygments_lexer": "ipython3",
   "version": "3.8.5-final"
  },
  "orig_nbformat": 2,
  "kernelspec": {
   "name": "python3",
   "display_name": "Python 3",
   "language": "python"
  }
 },
 "nbformat": 4,
 "nbformat_minor": 2,
 "cells": [
  {
   "cell_type": "code",
   "execution_count": 9,
   "metadata": {},
   "outputs": [],
   "source": [
    "import pandas as pd\n",
    "\n",
    "eu_red_list_all_features = pd.read_csv(\"../European_Red_List_2017_December.csv\")"
   ]
  },
  {
   "cell_type": "code",
   "execution_count": 10,
   "metadata": {},
   "outputs": [
    {
     "output_type": "stream",
     "name": "stdout",
     "text": [
      "<class 'pandas.core.frame.DataFrame'>\nRangeIndex: 11670 entries, 0 to 11669\nData columns (total 32 columns):\n #   Column                           Non-Null Count  Dtype \n---  ------                           --------------  ----- \n 0   speciesGroup                     11670 non-null  object\n 1   extracted                        11670 non-null  object\n 2   taxonomicRankKingdom             11670 non-null  object\n 3   taxonomicRankPhylum              11670 non-null  object\n 4   taxonomicRankClass               11670 non-null  object\n 5   taxonomicRankOrder               11670 non-null  object\n 6   taxonomicRankFamily              11670 non-null  object\n 7   taxonomicRankGenus               11409 non-null  object\n 8   taxonomicRankSpecies             11409 non-null  object\n 9   taxonomicRankSubspecies          74 non-null     object\n 10  scientificName                   261 non-null    object\n 11  taxonomicAuthority               3722 non-null   object\n 12  taxonomicNotes                   3399 non-null   object\n 13  endemicToEurope                  11670 non-null  object\n 14  europeanRegionalRedListCategory  11259 non-null  object\n 15  europeanRegionalRedListCriteria  2105 non-null   object\n 16  endemicToEu                      10450 non-null  object\n 17  euRegionalRedListCategory        10151 non-null  object\n 18  euRegionalRedListCriteria        1901 non-null   object\n 19  euScope                          9757 non-null   object\n 20  conservationStatusAnalysis       261 non-null    object\n 21  redListCategoryRationale         11670 non-null  object\n 22  populationTrend                  11385 non-null  object\n 23  range                            11316 non-null  object\n 24  population                       11663 non-null  object\n 25  habitat                          11665 non-null  object\n 26  threats                          11661 non-null  object\n 27  conservationAction               11660 non-null  object\n 28  useAndTrade                      8263 non-null   object\n 29  redListReviewers                 5109 non-null   object\n 30  redListAssessors                 11092 non-null  object\n 31  redListContributors              2042 non-null   object\ndtypes: object(32)\nmemory usage: 2.8+ MB\n"
     ]
    }
   ],
   "source": [
    "eu_red_list_all_features.info()"
   ]
  },
  {
   "cell_type": "code",
   "execution_count": 11,
   "metadata": {},
   "outputs": [],
   "source": [
    "#from sklearn import preprocessing\n",
    "\n",
    "\n",
    "\n",
    "\n",
    "\n",
    "\n"
   ]
  },
  {
   "cell_type": "code",
   "execution_count": 12,
   "metadata": {},
   "outputs": [
    {
     "output_type": "stream",
     "name": "stdout",
     "text": [
      "shape: (11670, 32)\nshape: (11670, 12)\n"
     ]
    }
   ],
   "source": [
    "# Drop colums not needed.\n",
    "\n",
    "print(\"shape:\",eu_red_list_all_features.shape)\n",
    "\n",
    "to_drop = ['extracted',\n",
    "'taxonomicAuthority',\n",
    "'taxonomicNotes',\n",
    "'europeanRegionalRedListCriteria',\n",
    "'endemicToEu',\n",
    "'euRegionalRedListCategory',\n",
    "'euRegionalRedListCriteria',\n",
    "'taxonomicRankSubspecies',\n",
    "'scientificName',\n",
    "'euScope',\n",
    "'conservationStatusAnalysis',\n",
    "'redListCategoryRationale',\n",
    "'range',\n",
    "'population',\n",
    "'habitat',\n",
    "'threats',\n",
    "'conservationAction',\n",
    "'redListReviewers',\n",
    "'redListAssessors',\n",
    "'redListContributors']\n",
    "\n",
    "eu_red_list = eu_red_list_all_features.copy(deep=True)\n",
    "eu_red_list.drop(to_drop, inplace=True, axis=1)\n",
    "print(\"shape:\",eu_red_list.shape)\n"
   ]
  },
  {
   "cell_type": "code",
   "execution_count": 13,
   "metadata": {},
   "outputs": [
    {
     "output_type": "stream",
     "name": "stdout",
     "text": [
      "shape: (11670, 12)\nshape: (9250, 12)\n"
     ]
    }
   ],
   "source": [
    "# Extract all rows for animals\n",
    "print(\"shape:\",eu_red_list.shape)\n",
    "eu_red_list = eu_red_list[eu_red_list.taxonomicRankKingdom == \"ANIMALIA\"]\n",
    "print(\"shape:\",eu_red_list.shape)"
   ]
  },
  {
   "cell_type": "code",
   "execution_count": 14,
   "metadata": {},
   "outputs": [
    {
     "output_type": "stream",
     "name": "stdout",
     "text": [
      "column-wise distribution of null values: speciesGroup                          0\n",
      "taxonomicRankKingdom                  0\n",
      "taxonomicRankPhylum                   0\n",
      "taxonomicRankClass                    0\n",
      "taxonomicRankOrder                    0\n",
      "taxonomicRankFamily                   0\n",
      "taxonomicRankGenus                  261\n",
      "taxonomicRankSpecies                261\n",
      "endemicToEurope                       0\n",
      "europeanRegionalRedListCategory     390\n",
      "populationTrend                     277\n",
      "useAndTrade                        2626\n",
      "dtype: int64\n"
     ]
    }
   ],
   "source": [
    "print(\"column-wise distribution of null values:\",eu_red_list.isnull().sum())\n"
   ]
  },
  {
   "cell_type": "code",
   "execution_count": 15,
   "metadata": {},
   "outputs": [
    {
     "output_type": "stream",
     "name": "stdout",
     "text": [
      "shape: (9250, 12)\n",
      "shape: (6343, 12)\n",
      "column-wise distribution of null values: speciesGroup                       0\n",
      "taxonomicRankKingdom               0\n",
      "taxonomicRankPhylum                0\n",
      "taxonomicRankClass                 0\n",
      "taxonomicRankOrder                 0\n",
      "taxonomicRankFamily                0\n",
      "taxonomicRankGenus                 0\n",
      "taxonomicRankSpecies               0\n",
      "endemicToEurope                    0\n",
      "europeanRegionalRedListCategory    0\n",
      "populationTrend                    0\n",
      "useAndTrade                        0\n",
      "dtype: int64\n"
     ]
    }
   ],
   "source": [
    "print(\"shape:\",eu_red_list.shape)\n",
    "eu_red_list = eu_red_list.dropna()\n",
    "print(\"shape:\",eu_red_list.shape)\n",
    "print(\"column-wise distribution of null values:\",eu_red_list.isnull().sum())\n"
   ]
  },
  {
   "cell_type": "code",
   "execution_count": 16,
   "metadata": {},
   "outputs": [
    {
     "output_type": "stream",
     "name": "stdout",
     "text": [
      "Unknown       4289\nStable        1153\nDecreasing     795\nIncreasing     101\n0                5\nName: populationTrend, dtype: int64\n"
     ]
    }
   ],
   "source": [
    "# Many values are unknown. Should probably be excluded.\n",
    "print(eu_red_list['populationTrend'].value_counts())\n"
   ]
  },
  {
   "cell_type": "code",
   "execution_count": 17,
   "metadata": {},
   "outputs": [
    {
     "output_type": "stream",
     "name": "stdout",
     "text": [
      "LC         2942\nDD         1844\nNT          587\nVU          416\nEN          339\nCR          203\nCR (PE)       7\nEX            5\nName: europeanRegionalRedListCategory, dtype: int64\n"
     ]
    }
   ],
   "source": [
    "print(eu_red_list['europeanRegionalRedListCategory'].value_counts())\n"
   ]
  },
  {
   "cell_type": "code",
   "execution_count": 18,
   "metadata": {},
   "outputs": [
    {
     "output_type": "stream",
     "name": "stdout",
     "text": [
      "This species is not traded or exploited commercially.                                                                                                                                                                                                                                                                                                                                                                                                                                       744\nThe species is not traded or exploited commercially.                                                                                                                                                                                                                                                                                                                                                                                                                                        636\nThe species is not utilised.                                                                                                                                                                                                                                                                                                                                                                                                                                                                551\nThis species is not utilized.                                                                                                                                                                                                                                                                                                                                                                                                                                                               551\nThis species is not utilised.                                                                                                                                                                                                                                                                                                                                                                                                                                                               548\n                                                                                                                                                                                                                                                                                                                                                                                                                                                                                           ... \n--- Other purpose text ---In the 1940s the species was an important commercial species. Now too rare to be of any commercial interest.                                                                                                                                                                                                                                                                                                                                                        1\nThis species has only minor commercial importance. Landings for Argentina sphyraena collected from ICES areas II, IV, VI, VII, and VIII were recorded during 46 trips (1,375 hauls) by the small pelagics fishery in Germany from 2002 to 2008.  The average landings (kg) of this species per trip was 2,889.1 with a maximum of 101,500 kg.  Average landings (n) of this species per trip was 5,961.  No individuals of this species were recorded as bycatch (Ulleweit et al. 2010).      1\nOneirodes carlsbergi is not utilized. Oneirodids are not utilized, in general, in the commercial fishing industry (Pietsch in press).                                                                                                                                                                                                                                                                                                                                                         1\nThis species is not currently traded or exploited commercially.                                                                                                                                                                                                                                                                                                                                                                                                                               1\nThis species is not traded or exploited commercially, although it is an important pollinator of raspberries in Scotland (Rubus idaeus) and other soft fruit.                                                                                                                                                                                                                                                                                                                                  1\nName: useAndTrade, Length: 1099, dtype: int64\n"
     ]
    }
   ],
   "source": [
    "print(eu_red_list['useAndTrade'].value_counts())\n"
   ]
  },
  {
   "cell_type": "code",
   "execution_count": 52,
   "metadata": {},
   "outputs": [
    {
     "output_type": "stream",
     "name": "stdout",
     "text": [
      "1057\n"
     ]
    }
   ],
   "source": [
    "eu_red_list.loc[(eu_red_list.useAndTrade == \"This species is not utilized.\"),'useAndTrade'] = \"not utilized\"\n",
    "eu_red_list.loc[(eu_red_list.useAndTrade == \"The species is not traded or exploited commercially.\"),'useAndTrade'] = \"not utilized\"\n",
    "eu_red_list.loc[(eu_red_list.useAndTrade == \"This species is not traded or exploited commercially.\"),'useAndTrade'] = \"not utilized\"\n",
    "eu_red_list.loc[(eu_red_list.useAndTrade == \"The species is not utilised.\"),'useAndTrade'] = \"not utilized\"\n",
    "eu_red_list.loc[(eu_red_list.useAndTrade == \"This species is not utilised.\"),'useAndTrade'] = \"not utilized\"\n",
    "eu_red_list.loc[(eu_red_list.useAndTrade == \"This species is not used.\"),'useAndTrade'] = \"not utilized\"\n",
    "eu_red_list.loc[(eu_red_list.useAndTrade == \"The species is not utilized.\"),'useAndTrade'] = \"not utilized\"\n",
    "eu_red_list.loc[(eu_red_list.useAndTrade == \"There is no known trade in this species.\"),'useAndTrade'] = \"not utilized\"\n",
    "eu_red_list.loc[(eu_red_list.useAndTrade == \"The species is not used.\"),'useAndTrade'] = \"not utilized\"\n",
    "eu_red_list.loc[(eu_red_list.useAndTrade == \"This species is not used or traded.\"),'useAndTrade'] = \"not utilized\"\n",
    "eu_red_list.loc[(eu_red_list.useAndTrade == \"The species is in no way used or traded.\"),'useAndTrade'] = \"not utilized\"\n",
    "eu_red_list.loc[(eu_red_list.useAndTrade == \"There is no current exploitation that could represent a threat to the species as a whole.\"),'useAndTrade'] = \"not utilized\"\n",
    "eu_red_list.loc[(eu_red_list.useAndTrade == \"This species is not utilized in the Northeastern Atlantic.\"),'useAndTrade'] = \"not utilized\"\n",
    "eu_red_list.loc[(eu_red_list.useAndTrade == \"This species is not known to be traded.\"),'useAndTrade'] = \"not utilized\"\n",
    "eu_red_list.loc[(eu_red_list.useAndTrade == \"The species is not traded or commercially exploited.\"),'useAndTrade'] = \"not utilized\"\n",
    "eu_red_list.loc[(eu_red_list.useAndTrade == \"This species is not used or traded commercially.\"),'useAndTrade'] = \"not utilized\"\n",
    "eu_red_list.loc[(eu_red_list.useAndTrade == \"This species is not traded.\"),'useAndTrade'] = \"not utilized\"\n",
    "eu_red_list.loc[(eu_red_list.useAndTrade == \"The species is not exploited nor traded commercially.\"),'useAndTrade'] = \"not utilized\"\n",
    "eu_red_list.loc[(eu_red_list.useAndTrade == \"The species is not known to be traded.\"),'useAndTrade'] = \"not utilized\"\n",
    "eu_red_list.loc[(eu_red_list.useAndTrade == \"The species is not used or traded commercially.\"),'useAndTrade'] = \"not utilized\"\n",
    "eu_red_list.loc[(eu_red_list.useAndTrade == \"This species is not traded or exploited commercially, although it is an important pollinator of raspberries in Scotland (Rubus idaeus) and other soft fruit.\"),'useAndTrade'] = \"not utilized\"\n",
    "eu_red_list.loc[(eu_red_list.useAndTrade == \"This species is not currently traded or exploited commercially.\"),'useAndTrade'] = \"not utilized\"\n",
    "eu_red_list.loc[(eu_red_list.useAndTrade == \"There is no trade use for this species\"),'useAndTrade'] = \"not utilized\"\n",
    "eu_red_list.loc[(eu_red_list.useAndTrade == \"The species is not exploited commercially.\"),'useAndTrade'] = \"not utilized\"\n",
    "eu_red_list.loc[(eu_red_list.useAndTrade == \"This species is not known to be utilized.\"),'useAndTrade'] = \"not utilized\"\n",
    "eu_red_list.loc[(eu_red_list.useAndTrade == \"This species is not utilized by humans.\"),'useAndTrade'] = \"not utilized\"\n",
    "eu_red_list.loc[(eu_red_list.useAndTrade == \"This species is not utilized by humans.\"),'useAndTrade'] = \"not utilized\"\n",
    "eu_red_list.loc[(eu_red_list.useAndTrade == \"This species is not known to be used commercially.\"),'useAndTrade'] = \"not utilized\"\n",
    "eu_red_list.loc[(eu_red_list.useAndTrade == \"The species is not utilised nor traded commercially.\"),'useAndTrade'] = \"not utilized\"\n",
    "eu_red_list.loc[(eu_red_list.useAndTrade == \"This species is not utilized in European waters.\"),'useAndTrade'] = \"not utilized\"\n",
    "eu_red_list.loc[(eu_red_list.useAndTrade == \"This species is not traded or exploited commercially, but is valued as a pollinator of plants.\"),'useAndTrade'] = \"not utilized\"\n",
    "eu_red_list.loc[(eu_red_list.useAndTrade == \"This species is not commercially exploited.\"),'useAndTrade'] = \"not utilized\"\n",
    "eu_red_list.loc[(eu_red_list.useAndTrade == \"No trade in this species.\"),'useAndTrade'] = \"not utilized\"\n",
    "\n",
    "\n",
    "# No info\n",
    "eu_red_list.loc[(eu_red_list.useAndTrade == \"There is no use or trade information for this species.\"),'useAndTrade'] = \"no info\"\n",
    "eu_red_list.loc[(eu_red_list.useAndTrade == \"There is no trade information for this species.\"),'useAndTrade'] = \"no info\"\n",
    "eu_red_list.loc[(eu_red_list.useAndTrade == \"Use and trade information is not available for this species.\"),'useAndTrade'] = \"no info\"\n",
    "eu_red_list.loc[(eu_red_list.useAndTrade == \"There is no information on the use and trade of this species.\"),'useAndTrade'] = \"no info\"\n",
    "\n",
    "# utilized\n",
    "eu_red_list.loc[(eu_red_list.useAndTrade == \"This species is collected for shell specimens.\"),'useAndTrade'] = \"utilized\"\n",
    "eu_red_list.loc[(eu_red_list.useAndTrade == \"The species is not known to be utilised, although occasionally sold by shell collectors.\"),'useAndTrade'] = \"utilized\"\n",
    "eu_red_list.loc[(eu_red_list.useAndTrade == \"It is harvested for human consumption, and for sport fishing.\"),'useAndTrade'] = \"utilized\"\n",
    "eu_red_list.loc[(eu_red_list.useAndTrade == \"It is harvested for human consumption.\"),'useAndTrade'] = \"utilized\"\n",
    "eu_red_list.loc[(eu_red_list.useAndTrade == \"This species is harvested for human consumption.\"),'useAndTrade'] = \"utilized\"\n",
    "eu_red_list.loc[(eu_red_list.useAndTrade == \"Specimens have been offered for sale by professional retailers during entomological conventions (B. Dodelin, pers. comm. 2016).\"),'useAndTrade'] = \"utilized\"\n",
    "eu_red_list.loc[(eu_red_list.useAndTrade == \"Saproxylic Coleoptera tend to be popular with beetle collectors although trade is rarely an issue, the only exceptions being a few larger species of more dramatic form or colour.\"),'useAndTrade'] = \"utilized\"\n",
    "eu_red_list.loc[(eu_red_list.useAndTrade == \"As for most of the large snails of the Mediterranean, especially Helix spp., it is highly possible that this species is eaten as part of the local diet. However, there is no specific data on this.\"),'useAndTrade'] = \"utilized\"\n",
    "\n",
    "\n",
    "print(len(eu_red_list['useAndTrade'].value_counts()))"
   ]
  },
  {
   "cell_type": "code",
   "execution_count": null,
   "metadata": {},
   "outputs": [],
   "source": []
  }
 ]
}