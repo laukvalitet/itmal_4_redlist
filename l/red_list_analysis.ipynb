{
 "metadata": {
  "language_info": {
   "codemirror_mode": {
    "name": "ipython",
    "version": 3
   },
   "file_extension": ".py",
   "mimetype": "text/x-python",
   "name": "python",
   "nbconvert_exporter": "python",
   "pygments_lexer": "ipython3",
   "version": "3.7.9"
  },
  "orig_nbformat": 2,
  "kernelspec": {
   "name": "python3",
   "display_name": "Python 3",
   "language": "python"
  }
 },
 "nbformat": 4,
 "nbformat_minor": 2,
 "cells": [
  {
   "cell_type": "code",
   "execution_count": 1,
   "metadata": {},
   "outputs": [],
   "source": [
    "import pandas as pd\n",
    "\n",
    "eu_red_list_all_features = pd.read_csv(\"../European_Red_List_2017_December.csv\")"
   ]
  },
  {
   "cell_type": "code",
   "execution_count": 2,
   "metadata": {},
   "outputs": [
    {
     "output_type": "stream",
     "name": "stdout",
     "text": [
      "<class 'pandas.core.frame.DataFrame'>\nRangeIndex: 11670 entries, 0 to 11669\nData columns (total 32 columns):\nspeciesGroup                       11670 non-null object\nextracted                          11670 non-null object\ntaxonomicRankKingdom               11670 non-null object\ntaxonomicRankPhylum                11670 non-null object\ntaxonomicRankClass                 11670 non-null object\ntaxonomicRankOrder                 11670 non-null object\ntaxonomicRankFamily                11670 non-null object\ntaxonomicRankGenus                 11409 non-null object\ntaxonomicRankSpecies               11409 non-null object\ntaxonomicRankSubspecies            74 non-null object\nscientificName                     261 non-null object\ntaxonomicAuthority                 3722 non-null object\ntaxonomicNotes                     3399 non-null object\nendemicToEurope                    11670 non-null object\neuropeanRegionalRedListCategory    11259 non-null object\neuropeanRegionalRedListCriteria    2105 non-null object\nendemicToEu                        10450 non-null object\neuRegionalRedListCategory          10151 non-null object\neuRegionalRedListCriteria          1901 non-null object\neuScope                            9757 non-null object\nconservationStatusAnalysis         261 non-null object\nredListCategoryRationale           11670 non-null object\npopulationTrend                    11385 non-null object\nrange                              11316 non-null object\npopulation                         11663 non-null object\nhabitat                            11665 non-null object\nthreats                            11661 non-null object\nconservationAction                 11660 non-null object\nuseAndTrade                        8263 non-null object\nredListReviewers                   5109 non-null object\nredListAssessors                   11092 non-null object\nredListContributors                2042 non-null object\ndtypes: object(32)\nmemory usage: 2.8+ MB\n"
     ]
    }
   ],
   "source": [
    "eu_red_list_all_features.info()"
   ]
  },
  {
   "cell_type": "code",
   "execution_count": 3,
   "metadata": {},
   "outputs": [],
   "source": [
    "#from sklearn import preprocessing\n",
    "\n",
    "\n",
    "\n",
    "\n",
    "\n",
    "\n"
   ]
  },
  {
   "cell_type": "code",
   "execution_count": 4,
   "metadata": {},
   "outputs": [
    {
     "output_type": "stream",
     "name": "stdout",
     "text": [
      "shape: (11670, 32)\nshape: (11670, 12)\n"
     ]
    }
   ],
   "source": [
    "# Drop colums not needed.\n",
    "\n",
    "print(\"shape:\",eu_red_list_all_features.shape)\n",
    "\n",
    "to_drop = ['extracted',\n",
    "'taxonomicAuthority',\n",
    "'taxonomicNotes',\n",
    "'europeanRegionalRedListCriteria',\n",
    "'endemicToEu',\n",
    "'euRegionalRedListCategory',\n",
    "'euRegionalRedListCriteria',\n",
    "'taxonomicRankSubspecies',\n",
    "'scientificName',\n",
    "'euScope',\n",
    "'conservationStatusAnalysis',\n",
    "'redListCategoryRationale',\n",
    "'range',\n",
    "'population',\n",
    "'habitat',\n",
    "'threats',\n",
    "'conservationAction',\n",
    "'redListReviewers',\n",
    "'redListAssessors',\n",
    "'redListContributors']\n",
    "\n",
    "eu_red_list = eu_red_list_all_features.copy(deep=True)\n",
    "eu_red_list.drop(to_drop, inplace=True, axis=1)\n",
    "print(\"shape:\",eu_red_list.shape)\n"
   ]
  },
  {
   "cell_type": "code",
   "execution_count": 5,
   "metadata": {},
   "outputs": [
    {
     "output_type": "stream",
     "name": "stdout",
     "text": [
      "shape: (11670, 12)\nshape: (9250, 12)\n"
     ]
    }
   ],
   "source": [
    "# Extract all rows for animals\n",
    "print(\"shape:\",eu_red_list.shape)\n",
    "eu_red_list = eu_red_list[eu_red_list.taxonomicRankKingdom == \"ANIMALIA\"]\n",
    "print(\"shape:\",eu_red_list.shape)"
   ]
  },
  {
   "cell_type": "code",
   "execution_count": 6,
   "metadata": {},
   "outputs": [
    {
     "output_type": "stream",
     "name": "stdout",
     "text": [
      "column-wise distribution of null values: speciesGroup                          0\ntaxonomicRankKingdom                  0\ntaxonomicRankPhylum                   0\ntaxonomicRankClass                    0\ntaxonomicRankOrder                    0\ntaxonomicRankFamily                   0\ntaxonomicRankGenus                  261\ntaxonomicRankSpecies                261\nendemicToEurope                       0\neuropeanRegionalRedListCategory     390\npopulationTrend                     277\nuseAndTrade                        2626\ndtype: int64\n"
     ]
    }
   ],
   "source": [
    "print(\"column-wise distribution of null values:\",eu_red_list.isnull().sum())\n"
   ]
  },
  {
   "cell_type": "code",
   "execution_count": 7,
   "metadata": {},
   "outputs": [
    {
     "output_type": "stream",
     "name": "stdout",
     "text": [
      "shape: (9250, 12)\nshape: (6343, 12)\ncolumn-wise distribution of null values: speciesGroup                       0\ntaxonomicRankKingdom               0\ntaxonomicRankPhylum                0\ntaxonomicRankClass                 0\ntaxonomicRankOrder                 0\ntaxonomicRankFamily                0\ntaxonomicRankGenus                 0\ntaxonomicRankSpecies               0\nendemicToEurope                    0\neuropeanRegionalRedListCategory    0\npopulationTrend                    0\nuseAndTrade                        0\ndtype: int64\n"
     ]
    }
   ],
   "source": [
    "print(\"shape:\",eu_red_list.shape)\n",
    "eu_red_list = eu_red_list.dropna()\n",
    "print(\"shape:\",eu_red_list.shape)\n",
    "print(\"column-wise distribution of null values:\",eu_red_list.isnull().sum())\n"
   ]
  },
  {
   "cell_type": "code",
   "execution_count": 8,
   "metadata": {},
   "outputs": [
    {
     "output_type": "stream",
     "name": "stdout",
     "text": [
      "Unknown       4289\nStable        1153\nDecreasing     795\nIncreasing     101\n0                5\nName: populationTrend, dtype: int64\n"
     ]
    }
   ],
   "source": [
    "# Many values are unknown. Should probably be excluded.\n",
    "print(eu_red_list['populationTrend'].value_counts())\n"
   ]
  },
  {
   "cell_type": "code",
   "execution_count": 9,
   "metadata": {},
   "outputs": [
    {
     "output_type": "stream",
     "name": "stdout",
     "text": [
      "LC         2942\nDD         1844\nNT          587\nVU          416\nEN          339\nCR          203\nCR (PE)       7\nEX            5\nName: europeanRegionalRedListCategory, dtype: int64\n"
     ]
    }
   ],
   "source": [
    "print(eu_red_list['europeanRegionalRedListCategory'].value_counts())\n"
   ]
  },
  {
   "cell_type": "code",
   "execution_count": 16,
   "metadata": {},
   "outputs": [
    {
     "output_type": "stream",
     "name": "stdout",
     "text": [
      "not utilized                                                                                                                                                                                                                                                                                                                                                                                                                                                                                                                                                                                                                                                                                                                                                                                                                    4641\nutilized                                                                                                                                                                                                                                                                                                                                                                                                                                                                                                                                                                                                                                                                                                                                                                                                                         449\nno info                                                                                                                                                                                                                                                                                                                                                                                                                                                                                                                                                                                                                                                                                                                                                                                                                           82\nNot traded.                                                                                                                                                                                                                                                                                                                                                                                                                                                                                                                                                                                                                                                                                                                                                                                                                        5\nThe species is not used or traded.                                                                                                                                                                                                                                                                                                                                                                                                                                                                                                                                                                                                                                                                                                                                                                                                 5\n                                                                                                                                                                                                                                                                                                                                                                                                                                                                                                                                                                                                                                                                                                                                                                                                                                ... \nThere is no information on the use and trade of the species.                                                                                                                                                                                                                                                                                                                                                                                                                                                                                                                                                                                                                                                                                                                                                                       1\nThe species is caught by artisanal and sport fisheries throughout its range; it is an esteemed food fish and a candidate for aquaculture development in Mediterranean Sea. The species is often found in the community tank of public aquariums in Europe (L.N. Chao pers. obs. 2005). Experimental aquaculture in Greece has shown the species can reach 400 g in 12 months, but it suffers from marine cage adaptation problems (Triantaphyllidis 2012). In Turkey, otoliths are ground to a powder and used as remedy for urinary tract infections (Frimodt 1995). The fish is heavily targeted in its north African range where it is over-exploited by artisanal, semi-industrial and recreational fishing, and the fish is highly susceptible to spear fishing as it is slow moving and accessible (Grau et al. 2009).       1\nThe species a component of small-scale demersal fisheries in Portugal (Gonçalves et al. 1997). This species and other dragonets are taken as bycatch in bottom trawls and marketed locally. Some species are commercially used in the aquarium trade (Fricke FAO ECA Guide in press).                                                                                                                                                                                                                                                                                                                                                                                                                                                                                                                                              1\nApis mellifera is considered to be one of the most important pollinators of crops and other plant species (Delaplane et al. 2000).   However, the scale of pollination services provided by wild colonies is unclear because of the lack of data on the size and distribution of the wild population of the Apis mellifera in Europe (Jaffé et al. 2010).Honey is not known to be harvested from wild colonies in Europe.                                                                                                                                                                                                                                                                                                                                                                                                          1\nMonochirus hispidus is considered a local commercial species in the Aegean and Eastern Ionian Sea (Machias et al. 2001). It is likely taken as bycatch in demersal trawl fisheries.                                                                                                                                                                                                                                                                                                                                                                                                                                                                                                                                                                                                                                                1\nName: useAndTrade, Length: 1056, dtype: int64\n"
     ]
    }
   ],
   "source": [
    "print(eu_red_list['useAndTrade'].value_counts())\n"
   ]
  },
  {
   "cell_type": "code",
   "execution_count": 104,
   "metadata": {
    "tags": []
   },
   "outputs": [
    {
     "output_type": "stream",
     "name": "stdout",
     "text": [
      "983\n_________\nnot utilized                                                                                                                                                                                                                                                                                                                                                                                                                                                                                                  4757\nutilized                                                                                                                                                                                                                                                                                                                                                                                                                                                                                                       478\nno info                                                                                                                                                                                                                                                                                                                                                                                                                                                                                                        112\n--- Other purpose text ---Now extinct                                                                                                                                                                                                                                                                                                                                                                                                                                                                            4\nThis species is not known to be traded or used.                                                                                                                                                                                                                                                                                                                                                                                                                                                                  2\n                                                                                                                                                                                                                                                                                                                                                                                                                                                                                                              ... \nAt the beginning of the 20th century, its meat was sold for consumption locally in the Mediterranean region (Kabasakal and Delyan 2011). Its meat has also been used for fishmeal and its liver oil for medicinal purposes in South Africa                                                                                                                                                                                                                                                                       1\nThe species has been reported to be captured by different gears in northeast Atlantic waters, mainly by bottom trawl (Bay of Biscay, Great Meteor and West Scotland), but also through bottom line (Canary Islands) and drift gillnet (Southern Portugal) (Barreiros et al. 2011).                                                                                                                                                                                                                               1\nNotolychnus valdiviae is not utilized by the commercial fishing industry.                                                                                                                                                                                                                                                                                                                                                                                                                                        1\nThis species is not utilized (Moore in press).                                                                                                                                                                                                                                                                                                                                                                                                                                                                   1\nChelidonichthys obscurus is commercially fished off the French Catalan coast (Crec'hriou et al. 2012). It is caught in mixed fisheries with other species of Triglidae. In the Mediterranean, this species has only minor commercial importance. In the Mediterranean, this species is regularly present in the markets of the Tyrrhenian Sea, Sicily and Morocco occasionally in France, Adriatic, Greece, Turkey and Cyprus, rarely in Tunisia. It  is marketed fresh and chilled (Fischer et al. 1987).       1\nName: useAndTrade, Length: 983, dtype: int64\n"
     ]
    }
   ],
   "source": [
    "eu_red_list.loc[(eu_red_list.useAndTrade == \"This species is not utilized.\"),'useAndTrade'] = \"not utilized\"\n",
    "eu_red_list.loc[(eu_red_list.useAndTrade == \"The species is not traded or exploited commercially.\"),'useAndTrade'] = \"not utilized\"\n",
    "eu_red_list.loc[(eu_red_list.useAndTrade == \"This species is not traded or exploited commercially.\"),'useAndTrade'] = \"not utilized\"\n",
    "eu_red_list.loc[(eu_red_list.useAndTrade == \"The species is not utilised.\"),'useAndTrade'] = \"not utilized\"\n",
    "eu_red_list.loc[(eu_red_list.useAndTrade == \"This species is not utilised.\"),'useAndTrade'] = \"not utilized\"\n",
    "eu_red_list.loc[(eu_red_list.useAndTrade == \"This species is not used.\"),'useAndTrade'] = \"not utilized\"\n",
    "eu_red_list.loc[(eu_red_list.useAndTrade == \"The species is not utilized.\"),'useAndTrade'] = \"not utilized\"\n",
    "eu_red_list.loc[(eu_red_list.useAndTrade == \"There is no known trade in this species.\"),'useAndTrade'] = \"not utilized\"\n",
    "eu_red_list.loc[(eu_red_list.useAndTrade == \"The species is not used.\"),'useAndTrade'] = \"not utilized\"\n",
    "eu_red_list.loc[(eu_red_list.useAndTrade == \"This species is not used or traded.\"),'useAndTrade'] = \"not utilized\"\n",
    "eu_red_list.loc[(eu_red_list.useAndTrade == \"The species is in no way used or traded.\"),'useAndTrade'] = \"not utilized\"\n",
    "eu_red_list.loc[(eu_red_list.useAndTrade == \"There is no current exploitation that could represent a threat to the species as a whole.\"),'useAndTrade'] = \"not utilized\"\n",
    "eu_red_list.loc[(eu_red_list.useAndTrade == \"This species is not utilized in the Northeastern Atlantic.\"),'useAndTrade'] = \"not utilized\"\n",
    "eu_red_list.loc[(eu_red_list.useAndTrade == \"This species is not known to be traded.\"),'useAndTrade'] = \"not utilized\"\n",
    "eu_red_list.loc[(eu_red_list.useAndTrade == \"The species is not traded or commercially exploited.\"),'useAndTrade'] = \"not utilized\"\n",
    "eu_red_list.loc[(eu_red_list.useAndTrade == \"This species is not used or traded commercially.\"),'useAndTrade'] = \"not utilized\"\n",
    "eu_red_list.loc[(eu_red_list.useAndTrade == \"This species is not traded.\"),'useAndTrade'] = \"not utilized\"\n",
    "eu_red_list.loc[(eu_red_list.useAndTrade == \"The species is not exploited nor traded commercially.\"),'useAndTrade'] = \"not utilized\"\n",
    "eu_red_list.loc[(eu_red_list.useAndTrade == \"The species is not known to be traded.\"),'useAndTrade'] = \"not utilized\"\n",
    "eu_red_list.loc[(eu_red_list.useAndTrade == \"The species is not used or traded commercially.\"),'useAndTrade'] = \"not utilized\"\n",
    "eu_red_list.loc[(eu_red_list.useAndTrade == \"This species is not traded or exploited commercially, although it is an important pollinator of raspberries in Scotland (Rubus idaeus) and other soft fruit.\"),'useAndTrade'] = \"not utilized\"\n",
    "eu_red_list.loc[(eu_red_list.useAndTrade == \"This species is not currently traded or exploited commercially.\"),'useAndTrade'] = \"not utilized\"\n",
    "eu_red_list.loc[(eu_red_list.useAndTrade == \"There is no trade use for this species\"),'useAndTrade'] = \"not utilized\"\n",
    "eu_red_list.loc[(eu_red_list.useAndTrade == \"The species is not exploited commercially.\"),'useAndTrade'] = \"not utilized\"\n",
    "eu_red_list.loc[(eu_red_list.useAndTrade == \"This species is not known to be utilized.\"),'useAndTrade'] = \"not utilized\"\n",
    "eu_red_list.loc[(eu_red_list.useAndTrade == \"This species is not utilized by humans.\"),'useAndTrade'] = \"not utilized\"\n",
    "eu_red_list.loc[(eu_red_list.useAndTrade == \"This species is not utilized by humans.\"),'useAndTrade'] = \"not utilized\"\n",
    "eu_red_list.loc[(eu_red_list.useAndTrade == \"This species is not known to be used commercially.\"),'useAndTrade'] = \"not utilized\"\n",
    "eu_red_list.loc[(eu_red_list.useAndTrade == \"The species is not utilised nor traded commercially.\"),'useAndTrade'] = \"not utilized\"\n",
    "eu_red_list.loc[(eu_red_list.useAndTrade == \"This species is not utilized in European waters.\"),'useAndTrade'] = \"not utilized\"\n",
    "eu_red_list.loc[(eu_red_list.useAndTrade == \"This species is not traded or exploited commercially, but is valued as a pollinator of plants.\"),'useAndTrade'] = \"not utilized\"\n",
    "eu_red_list.loc[(eu_red_list.useAndTrade == \"This species is not commercially exploited.\"),'useAndTrade'] = \"not utilized\"\n",
    "eu_red_list.loc[(eu_red_list.useAndTrade == \"No trade in this species.\"),'useAndTrade'] = \"not utilized\"\n",
    "eu_red_list.loc[(eu_red_list.useAndTrade == \"The species is not used or traded.\"),'useAndTrade'] = \"not utilized\"\n",
    "eu_red_list.loc[(eu_red_list.useAndTrade == \"Not traded.\"),'useAndTrade'] = \"not utilized\"\n",
    "eu_red_list.loc[(eu_red_list.useAndTrade == \"This species is not utilized and is of no interest to fisheries (Nielsen 1999).\"),'useAndTrade'] = \"not utilized\"\n",
    "eu_red_list.loc[(eu_red_list.useAndTrade == \"The fish is not utilised.\"),'useAndTrade'] = \"not utilized\"\n",
    "eu_red_list.loc[(eu_red_list.useAndTrade == \"No known trade in this species.\"),'useAndTrade'] = \"not utilized\"\n",
    "eu_red_list.loc[(eu_red_list.useAndTrade == \"At present, this species is not utilized.\"),'useAndTrade'] = \"not utilized\"\n",
    "eu_red_list.loc[(eu_red_list.useAndTrade == \" This species is not traded or exploited commercially.\"),'useAndTrade'] = \"not utilized\"\n",
    "eu_red_list.loc[(eu_red_list.useAndTrade == \"This species is not subjet to any trade or use.\"),'useAndTrade'] = \"not utilized\"\n",
    "eu_red_list.loc[(eu_red_list.useAndTrade == \"There is no known trade in this species\"),'useAndTrade'] = \"not utilized\"\n",
    "eu_red_list.loc[(eu_red_list.useAndTrade == \"The species is not commercially utilized.\"),'useAndTrade'] = \"not utilized\"\n",
    "eu_red_list.loc[(eu_red_list.useAndTrade == \"The species is not known to be utilised.\"),'useAndTrade'] = \"not utilized\"\n",
    "eu_red_list.loc[(eu_red_list.useAndTrade == \"This species is not utlilized.\"),'useAndTrade'] = \"not utilized\"\n",
    "eu_red_list.loc[(eu_red_list.useAndTrade == \"Platytroctids are of no commercial importance to fisheries (Carter 2002).\"),'useAndTrade'] = \"not utilized\"\n",
    "eu_red_list.loc[(eu_red_list.useAndTrade == \"There is no trade in this species.\"),'useAndTrade'] = \"not utilized\"\n",
    "eu_red_list.loc[(eu_red_list.useAndTrade == \"This species does not appear to be commercially important.\"),'useAndTrade'] = \"not utilized\"\n",
    "eu_red_list.loc[(eu_red_list.useAndTrade == \"This species is not used in trade.\"),'useAndTrade'] = \"not utilized\"\n",
    "eu_red_list.loc[(eu_red_list.useAndTrade == \"Paraliparis bathybius is not of commercial importance (Karamushko 2008).\"),'useAndTrade'] = \"not utilized\"\n",
    "eu_red_list.loc[(eu_red_list.useAndTrade == \"This species is not traded or exploited commercially, but is valued as a pollinator of different plants.\"),'useAndTrade'] = \"not utilized\"\n",
    "eu_red_list.loc[(eu_red_list.useAndTrade == \"This species is not utilized in the northeastern Atlantic.\"),'useAndTrade'] = \"not utilized\"\n",
    "eu_red_list.loc[(eu_red_list.useAndTrade == \"Proterorhinus marmoratus is not utilized.\"),'useAndTrade'] = \"not utilized\"\n",
    "eu_red_list.loc[(eu_red_list.useAndTrade == \"Benthocometes robustus is of no interest to commercial fishing companies.\"),'useAndTrade'] = \"not utilized\"\n",
    "eu_red_list.loc[(eu_red_list.useAndTrade == \"There is no information if this species is utilized as food in significant quantities, like other larger bodied Helix species.\"),'useAndTrade'] = \"not utilized\"\n",
    "eu_red_list.loc[(eu_red_list.useAndTrade == \"This flying fish is not commercially exploited (Maigret and Ly 1986). Sometimes this fish is caught in the Mediterranean Sea, but it is not targeted by any fisheries in the region.\"),'useAndTrade'] = \"not utilized\"\n",
    "eu_red_list.loc[(eu_red_list.useAndTrade == \"This species is not utilized in the northeastern Atlantic Ocean.\"),'useAndTrade'] = \"not utilized\"\n",
    "eu_red_list.loc[(eu_red_list.useAndTrade == \"Rouleina maderensis is of no interest to the fisheries industry (Markle 1984).\"),'useAndTrade'] = \"not utilized\"\n",
    "eu_red_list.loc[(eu_red_list.useAndTrade == \"There is no commercial exploitation of this species.\"),'useAndTrade'] = \"not utilized\"\n",
    "eu_red_list.loc[(eu_red_list.useAndTrade == \"Serrivomer lanceolatoides is not utilized in the Northeastern Atlantic.\"),'useAndTrade'] = \"not utilized\"\n",
    "eu_red_list.loc[(eu_red_list.useAndTrade == \"Species not utilized\"),'useAndTrade'] = \"not utilized\"\n",
    "eu_red_list.loc[(eu_red_list.useAndTrade == \"This species is not utilized in the region.\"),'useAndTrade'] = \"not utilized\"\n",
    "eu_red_list.loc[(eu_red_list.useAndTrade == \"This species is not traded or exploited commercially\"),'useAndTrade'] = \"not utilized\"\n",
    "eu_red_list.loc[(eu_red_list.useAndTrade == \"The species is not traded or used commercially.\"),'useAndTrade'] = \"not utilized\"\n",
    "eu_red_list.loc[(eu_red_list.useAndTrade == \"The species is not utilised or traded commercially.\"),'useAndTrade'] = \"not utilized\"\n",
    "eu_red_list.loc[(eu_red_list.useAndTrade == \"Platytroctids are of no importance to fisheries (Quéro et al. 1990).\"),'useAndTrade'] = \"not utilized\"\n",
    "eu_red_list.loc[(eu_red_list.useAndTrade == \"It is not commercially utilized.\"),'useAndTrade'] = \"not utilized\"\n",
    "eu_red_list.loc[(eu_red_list.useAndTrade == \"Odontobuenia balearica is not utilized.\"),'useAndTrade'] = \"not utilized\"\n",
    "eu_red_list.loc[(eu_red_list.useAndTrade == \"Saproxylic Coleoptera tend to be popular with beetle collectors although trade is rarely an issue, the only exceptions being a few larger species of more dramatic form or colour. This species is not utilized.\"),'useAndTrade'] = \"not utilized\"\n",
    "eu_red_list.loc[(eu_red_list.useAndTrade == \"This species is of no interest to fisheries.\"),'useAndTrade'] = \"not utilized\"\n",
    "eu_red_list.loc[(eu_red_list.useAndTrade == \"This species is not traded or exploited commercially, but is valued as a pollinator of steppe plants.\"),'useAndTrade'] = \"not utilized\"\n",
    "eu_red_list.loc[(eu_red_list.useAndTrade == \"This species does not have any commercial use.\"),'useAndTrade'] = \"not utilized\"\n",
    "eu_red_list.loc[(eu_red_list.useAndTrade == \"Not utilized.\"),'useAndTrade'] = \"not utilized\"\n",
    "eu_red_list.loc[(eu_red_list.useAndTrade == \"This species is not commercially utilized.\"),'useAndTrade'] = \"not utilized\"\n",
    "eu_red_list.loc[(eu_red_list.useAndTrade == \"This species is not utilized commercially.\"),'useAndTrade'] = \"not utilized\"\n",
    "eu_red_list.loc[(eu_red_list.useAndTrade == \"Pseudaphya ferreri is not utilized.\"),'useAndTrade'] = \"not utilized\"\n",
    "eu_red_list.loc[(eu_red_list.useAndTrade == \"The available information does not indicate any utilization of the species\"),'useAndTrade'] = \"not utilized\"\n",
    "eu_red_list.loc[(eu_red_list.useAndTrade == \"This species is not subject to any trade or use. One possible use may be collectors.\"),'useAndTrade'] = \"not utilized\"\n",
    "eu_red_list.loc[(eu_red_list.useAndTrade == \"This species is not known to be traded or used.\"),'useAndTrade'] = \"not utilized\"\n",
    "\n",
    "\n",
    "# No info\n",
    "eu_red_list.loc[(eu_red_list.useAndTrade == \"There is no information available for this species, however it is considered very unlikely that it is utilized.\"),'useAndTrade'] = \"no info\"\n",
    "eu_red_list.loc[(eu_red_list.useAndTrade == \"No information available.\"),'useAndTrade'] = \"no info\"\n",
    "eu_red_list.loc[(eu_red_list.useAndTrade == \"There is no use or trade information for this species.\"),'useAndTrade'] = \"no info\"\n",
    "eu_red_list.loc[(eu_red_list.useAndTrade == \"There is no trade information for this species.\"),'useAndTrade'] = \"no info\"\n",
    "eu_red_list.loc[(eu_red_list.useAndTrade == \"Use and trade information is not available for this species.\"),'useAndTrade'] = \"no info\"\n",
    "eu_red_list.loc[(eu_red_list.useAndTrade == \"There is no information on the use and trade of this species.\"),'useAndTrade'] = \"no info\"\n",
    "eu_red_list.loc[(eu_red_list.useAndTrade == \"There is no use and trade information for this species. \"),'useAndTrade'] = \"no info\"\n",
    "eu_red_list.loc[(eu_red_list.useAndTrade == \"There is no use and trade information for this species.\"),'useAndTrade'] = \"no info\"\n",
    "eu_red_list.loc[(eu_red_list.useAndTrade == \"There is no trade or use information for this species.\"),'useAndTrade'] = \"no info\"\n",
    "eu_red_list.loc[(eu_red_list.useAndTrade == \"There is no use and trade information available for this species.\"),'useAndTrade'] = \"no info\"\n",
    "eu_red_list.loc[(eu_red_list.useAndTrade == \"There is no information on the use and trade of the species.\"),'useAndTrade'] = \"no info\"\n",
    "eu_red_list.loc[(eu_red_list.useAndTrade == \"No data\"),'useAndTrade'] = \"no info\"\n",
    "eu_red_list.loc[(eu_red_list.useAndTrade == \"There is no information on the use or trade of this species.\"),'useAndTrade'] = \"no info\"\n",
    "eu_red_list.loc[(eu_red_list.useAndTrade == \"There is no use and trade information for this species in Europe.\"),'useAndTrade'] = \"no info\"\n",
    "eu_red_list.loc[(eu_red_list.useAndTrade == \"There is no information on trade for this species.\"),'useAndTrade'] = \"no info\"\n",
    "eu_red_list.loc[(eu_red_list.useAndTrade == \"There is no information available for this species, however it is considered very unlikely that the species is utilized.\"),'useAndTrade'] = \"no info\"\n",
    "eu_red_list.loc[(eu_red_list.useAndTrade == \"There is no trade and use information for this species.\"),'useAndTrade'] = \"no info\"\n",
    "eu_red_list.loc[(eu_red_list.useAndTrade == \"There is no information available for this species, but it is considered very unlikely to be utilized.\"),'useAndTrade'] = \"no info\"\n",
    "\n",
    "\n",
    "# utilized\n",
    "eu_red_list.loc[(eu_red_list.useAndTrade == \"This species is used.\"),'useAndTrade'] = \"utilized\"\n",
    "eu_red_list.loc[(eu_red_list.useAndTrade == \"This species is collected for shell specimens.\"),'useAndTrade'] = \"utilized\"\n",
    "eu_red_list.loc[(eu_red_list.useAndTrade == \"The species is not known to be utilised, although occasionally sold by shell collectors.\"),'useAndTrade'] = \"utilized\"\n",
    "eu_red_list.loc[(eu_red_list.useAndTrade == \"It is harvested for human consumption, and for sport fishing.\"),'useAndTrade'] = \"utilized\"\n",
    "eu_red_list.loc[(eu_red_list.useAndTrade == \"It is harvested for human consumption.\"),'useAndTrade'] = \"utilized\"\n",
    "eu_red_list.loc[(eu_red_list.useAndTrade == \"This species is harvested for human consumption.\"),'useAndTrade'] = \"utilized\"\n",
    "eu_red_list.loc[(eu_red_list.useAndTrade == \"Specimens have been offered for sale by professional retailers during entomological conventions (B. Dodelin, pers. comm. 2016).\"),'useAndTrade'] = \"utilized\"\n",
    "eu_red_list.loc[(eu_red_list.useAndTrade == \"Saproxylic Coleoptera tend to be popular with beetle collectors although trade is rarely an issue, the only exceptions being a few larger species of more dramatic form or colour.\"),'useAndTrade'] = \"utilized\"\n",
    "eu_red_list.loc[(eu_red_list.useAndTrade == \"Saproxylic Coleopterans tend to be popular among beetles collectors although trade is rarely an issue, the only exceptions being a few larger species of more dramatic form or colour.\"),'useAndTrade'] = \"utilized\"\n",
    "eu_red_list.loc[(eu_red_list.useAndTrade == \"As for most of the large snails of the Mediterranean, especially Helix spp., it is highly possible that this species is eaten as part of the local diet. However, there is no specific data on this.\"),'useAndTrade'] = \"utilized\"\n",
    "eu_red_list.loc[(eu_red_list.useAndTrade == \"Collector specimens can be found for sale on the internet for 8 Euros. It seems that this species is also bred by hobbyists.\"),'useAndTrade'] = \"utilized\"\n",
    "eu_red_list.loc[(eu_red_list.useAndTrade == \"The species is caught by artisanal and sport fisheries throughout its range; it is an esteemed food fish and a candidate for aquaculture development in Mediterranean Sea. The species is often found in the community tank of public aquariums in Europe (L.N. Chao pers. obs. 2005). Experimental aquaculture in Greece has shown the species can reach 400 g in 12 months, but it suffers from marine cage adaptation problems (Triantaphyllidis 2012). In Turkey, otoliths are ground to a powder and used as remedy for urinary tract infections (Frimodt 1995). The fish is heavily targeted in its north African range where it is over-exploited by artisanal, semi-industrial and recreational fishing, and the fish is highly susceptible to spear fishing as it is slow moving and accessible (Grau et al. 2009).\"),'useAndTrade'] = \"utilized\"\n",
    "eu_red_list.loc[(eu_red_list.useAndTrade == \"This species is sometimes for sale on generalist websites. Specimens have been offered for sale by professional retailers during entomological conventions (B. Dodelin, pers. comm. 2016).\"),'useAndTrade'] = \"utilized\"\n",
    "eu_red_list.loc[(eu_red_list.useAndTrade == \"There is no known trade in this species, although occasionally shell collectors sell shells.\"),'useAndTrade'] = \"utilized\"\n",
    "eu_red_list.loc[(eu_red_list.useAndTrade == \"The species is utilized fresh or salt-dried for human consumption and for leather. In some locations in the Algarve, this species is traditionally eaten during the Christmas period after being salt-dried. During this period, this species can reach very high prices in the local fish markets (R. Coelho unpublished data). Only the largest specimens (about more than 40 cm TL) are regularly present on the fish markets of Tyrrhenian sea and Morocco. It is utilised as fresh meat, frozen, salted or dried (Bauchot 1987). It does not have a high commercial importance but in some Italian ports it is landed and sold fresh after the removal of the head and skin (Serena and Abella 1999).\"),'useAndTrade'] = \"utilized\"\n",
    "eu_red_list.loc[(eu_red_list.useAndTrade == \"Ditylus laevis is sought by insect collectors, and is threatened by commercial activity (Franc 2002).\"),'useAndTrade'] = \"utilized\"\n",
    "eu_red_list.loc[(eu_red_list.useAndTrade == \"The species a component of small-scale demersal fisheries in Portugal (Gonçalves et al. 1997). This species and other dragonets are taken as bycatch in bottom trawls and marketed locally. Some species are commercially used in the aquarium trade (Fricke FAO ECA Guide in press).\"),'useAndTrade'] = \"utilized\"\n",
    "eu_red_list.loc[(eu_red_list.useAndTrade == \"Pearl fishing was carried out both casually and by a group of people that regularly took pearls for profit. Some pearl fishing continues today and is a serious threat to the species. Pearl fishing is illegal throughout the EU.\"),'useAndTrade'] = \"utilized\"\n",
    "eu_red_list.loc[(eu_red_list.useAndTrade == \"Mallotus villosus is a commercially exploited species. In 2012, the Faroe Islands landed nearly 30,000 tonnes of this fish. Iceland landed nearly 60,000 tonnes, Norway 27,000 tonnes and the Russian Federation at nearly 70,000 tonnes (FAO 2011, FishStatJ Accessed 2014 April).\"),'useAndTrade'] = \"utilized\"\n",
    "eu_red_list.loc[(eu_red_list.useAndTrade == \"This species is found in subsistence fisheries, utilised as a gamefish, and found in commercial aquaria.\"),'useAndTrade'] = \"utilized\"\n",
    "eu_red_list.loc[(eu_red_list.useAndTrade == \"The offshore rockfish is one of  the widespread and commercially exploited demersal fish in the  temperate eastern Atlantic archipelagos. It may&#160;occasionally be caught in the Mediterranean Sea.\"),'useAndTrade'] = \"utilized\"\n",
    "eu_red_list.loc[(eu_red_list.useAndTrade == \"Specimens were offered for sale by professional retailers during entomological conventions (B. Dodelin, pers. comm. 2016).\"),'useAndTrade'] = \"utilized\"\n",
    "eu_red_list.loc[(eu_red_list.useAndTrade == \"This species may be sold for food when caught in local artisanal fisheries, where it is probably mainly used in fish soup.\"),'useAndTrade'] = \"utilized\"\n",
    "eu_red_list.loc[(eu_red_list.useAndTrade == \"This species is sometimes sold on generalist web-markets.\"),'useAndTrade'] = \"utilized\"\n",
    "eu_red_list.loc[(eu_red_list.useAndTrade == \"This species is reported be used for both national and international scientific research. On a small scale this species is also targeted by amateur entomologists (collectors).\"),'useAndTrade'] = \"utilized\"\n",
    "eu_red_list.loc[(eu_red_list.useAndTrade == \"This species is known to be used for sale for large garden ponds and aquariums.\"),'useAndTrade'] = \"utilized\"\n",
    "\n",
    "\n",
    "print(len(eu_red_list['useAndTrade'].value_counts()))\n",
    "print(\"_________\")\n",
    "print(eu_red_list['useAndTrade'].value_counts())\n"
   ]
  },
  {
   "cell_type": "code",
   "execution_count": null,
   "metadata": {},
   "outputs": [],
   "source": []
  }
 ]
}