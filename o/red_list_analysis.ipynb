{
 "metadata": {
  "language_info": {
   "codemirror_mode": {
    "name": "ipython",
    "version": 3
   },
   "file_extension": ".py",
   "mimetype": "text/x-python",
   "name": "python",
   "nbconvert_exporter": "python",
   "pygments_lexer": "ipython3",
   "version": "3.8.5"
  },
  "orig_nbformat": 2,
  "kernelspec": {
   "name": "python385jvsc74a57bd0d5eddd86aebc1569ac3762587a0ed89e090572a53f16746a18d306a0fcca9b17",
   "display_name": "Python 3.8.5 64-bit ('base': conda)"
  }
 },
 "nbformat": 4,
 "nbformat_minor": 2,
 "cells": [
  {
   "cell_type": "code",
   "execution_count": 28,
   "metadata": {},
   "outputs": [],
   "source": [
    "import pandas as pd\n",
    "\n",
    "eu_red_list_all_features = pd.read_csv(\"../European_Red_List_2017_December.csv\")"
   ]
  },
  {
   "cell_type": "code",
   "execution_count": 29,
   "metadata": {},
   "outputs": [
    {
     "output_type": "stream",
     "name": "stdout",
     "text": [
      "<class 'pandas.core.frame.DataFrame'>\nRangeIndex: 11670 entries, 0 to 11669\nData columns (total 32 columns):\n #   Column                           Non-Null Count  Dtype \n---  ------                           --------------  ----- \n 0   speciesGroup                     11670 non-null  object\n 1   extracted                        11670 non-null  object\n 2   taxonomicRankKingdom             11670 non-null  object\n 3   taxonomicRankPhylum              11670 non-null  object\n 4   taxonomicRankClass               11670 non-null  object\n 5   taxonomicRankOrder               11670 non-null  object\n 6   taxonomicRankFamily              11670 non-null  object\n 7   taxonomicRankGenus               11409 non-null  object\n 8   taxonomicRankSpecies             11409 non-null  object\n 9   taxonomicRankSubspecies          74 non-null     object\n 10  scientificName                   261 non-null    object\n 11  taxonomicAuthority               3722 non-null   object\n 12  taxonomicNotes                   3399 non-null   object\n 13  endemicToEurope                  11670 non-null  object\n 14  europeanRegionalRedListCategory  11259 non-null  object\n 15  europeanRegionalRedListCriteria  2105 non-null   object\n 16  endemicToEu                      10450 non-null  object\n 17  euRegionalRedListCategory        10151 non-null  object\n 18  euRegionalRedListCriteria        1901 non-null   object\n 19  euScope                          9757 non-null   object\n 20  conservationStatusAnalysis       261 non-null    object\n 21  redListCategoryRationale         11670 non-null  object\n 22  populationTrend                  11385 non-null  object\n 23  range                            11316 non-null  object\n 24  population                       11663 non-null  object\n 25  habitat                          11665 non-null  object\n 26  threats                          11661 non-null  object\n 27  conservationAction               11660 non-null  object\n 28  useAndTrade                      8263 non-null   object\n 29  redListReviewers                 5109 non-null   object\n 30  redListAssessors                 11092 non-null  object\n 31  redListContributors              2042 non-null   object\ndtypes: object(32)\nmemory usage: 2.8+ MB\n"
     ]
    }
   ],
   "source": [
    "eu_red_list_all_features.info()"
   ]
  },
  {
   "cell_type": "code",
   "execution_count": 30,
   "metadata": {},
   "outputs": [],
   "source": [
    "#from sklearn import preprocessing\n",
    "\n",
    "\n",
    "\n"
   ]
  },
  {
   "cell_type": "code",
   "execution_count": 31,
   "metadata": {},
   "outputs": [
    {
     "output_type": "stream",
     "name": "stdout",
     "text": [
      "shape: (11670, 32)\nshape: (11670, 12)\n"
     ]
    }
   ],
   "source": [
    "# Drop colums not needed.\n",
    "\n",
    "print(\"shape:\",eu_red_list_all_features.shape)\n",
    "\n",
    "to_drop = ['extracted',\n",
    "'taxonomicAuthority',\n",
    "'taxonomicNotes',\n",
    "'europeanRegionalRedListCriteria',\n",
    "'endemicToEu',\n",
    "'euRegionalRedListCategory',\n",
    "'euRegionalRedListCriteria',\n",
    "'taxonomicRankSubspecies',\n",
    "'scientificName',\n",
    "'euScope',\n",
    "'conservationStatusAnalysis',\n",
    "'redListCategoryRationale',\n",
    "'range',\n",
    "'population',\n",
    "'habitat',\n",
    "'threats',\n",
    "'conservationAction',\n",
    "'redListReviewers',\n",
    "'redListAssessors',\n",
    "'redListContributors']\n",
    "\n",
    "eu_red_list = eu_red_list_all_features.copy(deep=True)\n",
    "eu_red_list.drop(to_drop, inplace=True, axis=1)\n",
    "print(\"shape:\",eu_red_list.shape)\n"
   ]
  },
  {
   "cell_type": "code",
   "execution_count": 32,
   "metadata": {},
   "outputs": [
    {
     "output_type": "stream",
     "name": "stdout",
     "text": [
      "shape: (11670, 12)\nshape: (9250, 12)\n"
     ]
    }
   ],
   "source": [
    "# Extract all rows for animals\n",
    "print(\"shape:\",eu_red_list.shape)\n",
    "eu_red_list = eu_red_list[eu_red_list.taxonomicRankKingdom == \"ANIMALIA\"]\n",
    "print(\"shape:\",eu_red_list.shape)"
   ]
  },
  {
   "cell_type": "code",
   "execution_count": 33,
   "metadata": {},
   "outputs": [
    {
     "output_type": "stream",
     "name": "stdout",
     "text": [
      "column-wise distribution of null values: speciesGroup                          0\ntaxonomicRankKingdom                  0\ntaxonomicRankPhylum                   0\ntaxonomicRankClass                    0\ntaxonomicRankOrder                    0\ntaxonomicRankFamily                   0\ntaxonomicRankGenus                  261\ntaxonomicRankSpecies                261\nendemicToEurope                       0\neuropeanRegionalRedListCategory     390\npopulationTrend                     277\nuseAndTrade                        2626\ndtype: int64\n"
     ]
    }
   ],
   "source": [
    "print(\"column-wise distribution of null values:\",eu_red_list.isnull().sum())\n"
   ]
  },
  {
   "cell_type": "code",
   "execution_count": 34,
   "metadata": {},
   "outputs": [
    {
     "output_type": "stream",
     "name": "stdout",
     "text": [
      "shape: (9250, 12)\n",
      "shape: (6343, 12)\n",
      "column-wise distribution of null values: speciesGroup                       0\n",
      "taxonomicRankKingdom               0\n",
      "taxonomicRankPhylum                0\n",
      "taxonomicRankClass                 0\n",
      "taxonomicRankOrder                 0\n",
      "taxonomicRankFamily                0\n",
      "taxonomicRankGenus                 0\n",
      "taxonomicRankSpecies               0\n",
      "endemicToEurope                    0\n",
      "europeanRegionalRedListCategory    0\n",
      "populationTrend                    0\n",
      "useAndTrade                        0\n",
      "dtype: int64\n"
     ]
    }
   ],
   "source": [
    "print(\"shape:\",eu_red_list.shape)\n",
    "eu_red_list = eu_red_list.dropna()\n",
    "print(\"shape:\",eu_red_list.shape)\n",
    "print(\"column-wise distribution of null values:\",eu_red_list.isnull().sum())\n"
   ]
  },
  {
   "cell_type": "code",
   "execution_count": 35,
   "metadata": {},
   "outputs": [
    {
     "output_type": "stream",
     "name": "stdout",
     "text": [
      "Unknown       4289\nStable        1153\nDecreasing     795\nIncreasing     101\n0                5\nName: populationTrend, dtype: int64\n"
     ]
    }
   ],
   "source": [
    "# Many values are unknown. Should probably be excluded.\n",
    "print(eu_red_list['populationTrend'].value_counts())\n"
   ]
  },
  {
   "cell_type": "code",
   "execution_count": 36,
   "metadata": {},
   "outputs": [
    {
     "output_type": "stream",
     "name": "stdout",
     "text": [
      "LC         2942\nDD         1844\nNT          587\nVU          416\nEN          339\nCR          203\nCR (PE)       7\nEX            5\nName: europeanRegionalRedListCategory, dtype: int64\n"
     ]
    }
   ],
   "source": [
    "print(eu_red_list['europeanRegionalRedListCategory'].value_counts())\n"
   ]
  },
  {
   "cell_type": "code",
   "execution_count": 37,
   "metadata": {},
   "outputs": [
    {
     "output_type": "stream",
     "name": "stdout",
     "text": [
      "This species is not traded or exploited commercially.                                                                                                                                                                                                                                                 744\n",
      "The species is not traded or exploited commercially.                                                                                                                                                                                                                                                  636\n",
      "The species is not utilised.                                                                                                                                                                                                                                                                          551\n",
      "This species is not utilized.                                                                                                                                                                                                                                                                         551\n",
      "This species is not utilised.                                                                                                                                                                                                                                                                         548\n",
      "                                                                                                                                                                                                                                                                                                     ... \n",
      "The species is not traded or exploited commercially, but is valued as a pollinator of Apiaceae.                                                                                                                                                                                                         1\n",
      "This species is of low commercial importance, but is locally moderately abundant in fisheries. It is caught with trammel nets and bottom trawls. It is probably marketed fresh or dried salted, but its flesh is not highly esteemed; it is also reduced to fishmeal and oil (Carpenter in press).      1\n",
      "Not commercially utilized.                                                                                                                                                                                                                                                                              1\n",
      "This is a species that is occasionally found in local markets.                                                                                                                                                                                                                                          1\n",
      "Pisodonophis semicinctus is not utilized in the Northeastern Atlantic.                                                                                                                                                                                                                                  1\n",
      "Name: useAndTrade, Length: 1099, dtype: int64\n"
     ]
    }
   ],
   "source": [
    "print(eu_red_list['useAndTrade'].value_counts())\n"
   ]
  },
  {
   "cell_type": "code",
   "execution_count": 38,
   "metadata": {},
   "outputs": [
    {
     "output_type": "stream",
     "name": "stdout",
     "text": [
      "1058\n"
     ]
    }
   ],
   "source": [
    "eu_red_list.loc[(eu_red_list.useAndTrade == \"This species is not utilized.\"),'useAndTrade'] = \"not utilized\"\n",
    "eu_red_list.loc[(eu_red_list.useAndTrade == \"The species is not traded or exploited commercially.\"),'useAndTrade'] = \"not utilized\"\n",
    "eu_red_list.loc[(eu_red_list.useAndTrade == \"This species is not traded or exploited commercially.\"),'useAndTrade'] = \"not utilized\"\n",
    "eu_red_list.loc[(eu_red_list.useAndTrade == \"The species is not utilised.\"),'useAndTrade'] = \"not utilized\"\n",
    "eu_red_list.loc[(eu_red_list.useAndTrade == \"This species is not utilised.\"),'useAndTrade'] = \"not utilized\"\n",
    "eu_red_list.loc[(eu_red_list.useAndTrade == \"This species is not used.\"),'useAndTrade'] = \"not utilized\"\n",
    "eu_red_list.loc[(eu_red_list.useAndTrade == \"The species is not utilized.\"),'useAndTrade'] = \"not utilized\"\n",
    "eu_red_list.loc[(eu_red_list.useAndTrade == \"There is no known trade in this species.\"),'useAndTrade'] = \"not utilized\"\n",
    "eu_red_list.loc[(eu_red_list.useAndTrade == \"The species is not used.\"),'useAndTrade'] = \"not utilized\"\n",
    "eu_red_list.loc[(eu_red_list.useAndTrade == \"This species is not used or traded.\"),'useAndTrade'] = \"not utilized\"\n",
    "eu_red_list.loc[(eu_red_list.useAndTrade == \"The species is in no way used or traded.\"),'useAndTrade'] = \"not utilized\"\n",
    "eu_red_list.loc[(eu_red_list.useAndTrade == \"There is no current exploitation that could represent a threat to the species as a whole.\"),'useAndTrade'] = \"not utilized\"\n",
    "eu_red_list.loc[(eu_red_list.useAndTrade == \"This species is not utilized in the Northeastern Atlantic.\"),'useAndTrade'] = \"not utilized\"\n",
    "eu_red_list.loc[(eu_red_list.useAndTrade == \"This species is not known to be traded.\"),'useAndTrade'] = \"not utilized\"\n",
    "eu_red_list.loc[(eu_red_list.useAndTrade == \"The species is not traded or commercially exploited.\"),'useAndTrade'] = \"not utilized\"\n",
    "eu_red_list.loc[(eu_red_list.useAndTrade == \"This species is not used or traded commercially.\"),'useAndTrade'] = \"not utilized\"\n",
    "eu_red_list.loc[(eu_red_list.useAndTrade == \"This species is not traded.\"),'useAndTrade'] = \"not utilized\"\n",
    "eu_red_list.loc[(eu_red_list.useAndTrade == \"The species is not exploited nor traded commercially.\"),'useAndTrade'] = \"not utilized\"\n",
    "eu_red_list.loc[(eu_red_list.useAndTrade == \"The species is not known to be traded.\"),'useAndTrade'] = \"not utilized\"\n",
    "eu_red_list.loc[(eu_red_list.useAndTrade == \"The species is not used or traded commercially.\"),'useAndTrade'] = \"not utilized\"\n",
    "eu_red_list.loc[(eu_red_list.useAndTrade == \"This species is not traded or exploited commercially, although it is an important pollinator of raspberries in Scotland (Rubus idaeus) and other soft fruit.\"),'useAndTrade'] = \"not utilized\"\n",
    "eu_red_list.loc[(eu_red_list.useAndTrade == \"This species is not currently traded or exploited commercially.\"),'useAndTrade'] = \"not utilized\"\n",
    "eu_red_list.loc[(eu_red_list.useAndTrade == \"There is no trade use for this species\"),'useAndTrade'] = \"not utilized\"\n",
    "eu_red_list.loc[(eu_red_list.useAndTrade == \"The species is not exploited commercially.\"),'useAndTrade'] = \"not utilized\"\n",
    "eu_red_list.loc[(eu_red_list.useAndTrade == \"This species is not known to be utilized.\"),'useAndTrade'] = \"not utilized\"\n",
    "eu_red_list.loc[(eu_red_list.useAndTrade == \"This species is not utilized by humans.\"),'useAndTrade'] = \"not utilized\"\n",
    "eu_red_list.loc[(eu_red_list.useAndTrade == \"This species is not utilized by humans.\"),'useAndTrade'] = \"not utilized\"\n",
    "eu_red_list.loc[(eu_red_list.useAndTrade == \"This species is not known to be used commercially.\"),'useAndTrade'] = \"not utilized\"\n",
    "eu_red_list.loc[(eu_red_list.useAndTrade == \"The species is not utilised nor traded commercially.\"),'useAndTrade'] = \"not utilized\"\n",
    "eu_red_list.loc[(eu_red_list.useAndTrade == \"This species is not utilized in European waters.\"),'useAndTrade'] = \"not utilized\"\n",
    "eu_red_list.loc[(eu_red_list.useAndTrade == \"This species is not traded or exploited commercially, but is valued as a pollinator of plants.\"),'useAndTrade'] = \"not utilized\"\n",
    "eu_red_list.loc[(eu_red_list.useAndTrade == \"This species is not commercially exploited.\"),'useAndTrade'] = \"not utilized\"\n",
    "eu_red_list.loc[(eu_red_list.useAndTrade == \"No trade in this species.\"),'useAndTrade'] = \"not utilized\"\n",
    "\n",
    "\n",
    "# No info\n",
    "eu_red_list.loc[(eu_red_list.useAndTrade == \"There is no use or trade information for this species.\"),'useAndTrade'] = \"no info\"\n",
    "eu_red_list.loc[(eu_red_list.useAndTrade == \"There is no trade information for this species.\"),'useAndTrade'] = \"no info\"\n",
    "eu_red_list.loc[(eu_red_list.useAndTrade == \"Use and trade information is not available for this species.\"),'useAndTrade'] = \"no info\"\n",
    "eu_red_list.loc[(eu_red_list.useAndTrade == \"There is no information on the use and trade of this species.\"),'useAndTrade'] = \"no info\"\n",
    "\n",
    "# utilized\n",
    "eu_red_list.loc[(eu_red_list.useAndTrade == \"This species is collected for shell specimens.\"),'useAndTrade'] = \"utilized\"\n",
    "eu_red_list.loc[(eu_red_list.useAndTrade == \"The species is not known to be utilised, although occasionally sold by shell collectors.\"),'useAndTrade'] = \"utilized\"\n",
    "eu_red_list.loc[(eu_red_list.useAndTrade == \"It is harvested for human consumption, and for sport fishing.\"),'useAndTrade'] = \"utilized\"\n",
    "eu_red_list.loc[(eu_red_list.useAndTrade == \"It is harvested for human consumption.\"),'useAndTrade'] = \"utilized\"\n",
    "eu_red_list.loc[(eu_red_list.useAndTrade == \"This species is harvested for human consumption.\"),'useAndTrade'] = \"utilized\"\n",
    "eu_red_list.loc[(eu_red_list.useAndTrade == \"Specimens have been offered for sale by professional retailers during entomological conventions (B. Dodelin, pers. comm. 2016).\"),'useAndTrade'] = \"utilized\"\n",
    "eu_red_list.loc[(eu_red_list.useAndTrade == \"Saproxylic Coleoptera tend to be popular with beetle collectors although trade is rarely an issue, the only exceptions being a few larger species of more dramatic form or colour.\"),'useAndTrade'] = \"utilized\"\n",
    "eu_red_list.loc[(eu_red_list.useAndTrade == \"As for most of the large snails of the Mediterranean, especially Helix spp., it is highly possible that this species is eaten as part of the local diet. However, there is no specific data on this.\"),'useAndTrade'] = \"utilized\"\n",
    "\n",
    "\n",
    "print(len(eu_red_list['useAndTrade'].value_counts()))"
   ]
  },
  {
   "cell_type": "code",
   "execution_count": 40,
   "metadata": {
    "tags": [
     "outputPrepend"
    ]
   },
   "outputs": [
    {
     "output_type": "stream",
     "name": "stderr",
     "text": [
      "timator.fit(Xt, y, **fit_params_last_step)\n",
      "  File \"/Users/oskar/opt/anaconda3/lib/python3.8/site-packages/sklearn/neural_network/_multilayer_perceptron.py\", line 1027, in fit\n",
      "    return self._fit(X, y, incremental=(self.warm_start and\n",
      "  File \"/Users/oskar/opt/anaconda3/lib/python3.8/site-packages/sklearn/neural_network/_multilayer_perceptron.py\", line 326, in _fit\n",
      "    X, y = self._validate_input(X, y, incremental)\n",
      "  File \"/Users/oskar/opt/anaconda3/lib/python3.8/site-packages/sklearn/neural_network/_multilayer_perceptron.py\", line 964, in _validate_input\n",
      "    X, y = self._validate_data(X, y, accept_sparse=['csr', 'csc'],\n",
      "  File \"/Users/oskar/opt/anaconda3/lib/python3.8/site-packages/sklearn/base.py\", line 432, in _validate_data\n",
      "    X, y = check_X_y(X, y, **check_params)\n",
      "  File \"/Users/oskar/opt/anaconda3/lib/python3.8/site-packages/sklearn/utils/validation.py\", line 72, in inner_f\n",
      "    return f(**kwargs)\n",
      "  File \"/Users/oskar/opt/anaconda3/lib/python3.8/site-packages/sklearn/utils/validation.py\", line 795, in check_X_y\n",
      "    X = check_array(X, accept_sparse=accept_sparse,\n",
      "  File \"/Users/oskar/opt/anaconda3/lib/python3.8/site-packages/sklearn/utils/validation.py\", line 72, in inner_f\n",
      "    return f(**kwargs)\n",
      "  File \"/Users/oskar/opt/anaconda3/lib/python3.8/site-packages/sklearn/utils/validation.py\", line 598, in check_array\n",
      "    array = np.asarray(array, order=order, dtype=dtype)\n",
      "  File \"/Users/oskar/opt/anaconda3/lib/python3.8/site-packages/numpy/core/_asarray.py\", line 83, in asarray\n",
      "    return array(a, dtype, copy=False, order=order)\n",
      "  File \"/Users/oskar/opt/anaconda3/lib/python3.8/site-packages/pandas/core/generic.py\", line 1781, in __array__\n",
      "    return np.asarray(self._values, dtype=dtype)\n",
      "  File \"/Users/oskar/opt/anaconda3/lib/python3.8/site-packages/numpy/core/_asarray.py\", line 83, in asarray\n",
      "    return array(a, dtype, copy=False, order=order)\n",
      "ValueError: could not convert string to float: 'Bees'\n",
      "\n",
      "  warnings.warn(\"Estimator fit failed. The score on this train-test\"\n",
      "/Users/oskar/opt/anaconda3/lib/python3.8/site-packages/sklearn/model_selection/_validation.py:548: FitFailedWarning: Estimator fit failed. The score on this train-test partition for these parameters will be set to nan. Details: \n",
      "Traceback (most recent call last):\n",
      "  File \"/Users/oskar/opt/anaconda3/lib/python3.8/site-packages/sklearn/model_selection/_validation.py\", line 531, in _fit_and_score\n",
      "    estimator.fit(X_train, y_train, **fit_params)\n",
      "  File \"/Users/oskar/opt/anaconda3/lib/python3.8/site-packages/sklearn/pipeline.py\", line 335, in fit\n",
      "    self._final_estimator.fit(Xt, y, **fit_params_last_step)\n",
      "  File \"/Users/oskar/opt/anaconda3/lib/python3.8/site-packages/sklearn/neural_network/_multilayer_perceptron.py\", line 1027, in fit\n",
      "    return self._fit(X, y, incremental=(self.warm_start and\n",
      "  File \"/Users/oskar/opt/anaconda3/lib/python3.8/site-packages/sklearn/neural_network/_multilayer_perceptron.py\", line 326, in _fit\n",
      "    X, y = self._validate_input(X, y, incremental)\n",
      "  File \"/Users/oskar/opt/anaconda3/lib/python3.8/site-packages/sklearn/neural_network/_multilayer_perceptron.py\", line 964, in _validate_input\n",
      "    X, y = self._validate_data(X, y, accept_sparse=['csr', 'csc'],\n",
      "  File \"/Users/oskar/opt/anaconda3/lib/python3.8/site-packages/sklearn/base.py\", line 432, in _validate_data\n",
      "    X, y = check_X_y(X, y, **check_params)\n",
      "  File \"/Users/oskar/opt/anaconda3/lib/python3.8/site-packages/sklearn/utils/validation.py\", line 72, in inner_f\n",
      "    return f(**kwargs)\n",
      "  File \"/Users/oskar/opt/anaconda3/lib/python3.8/site-packages/sklearn/utils/validation.py\", line 795, in check_X_y\n",
      "    X = check_array(X, accept_sparse=accept_sparse,\n",
      "  File \"/Users/oskar/opt/anaconda3/lib/python3.8/site-packages/sklearn/utils/validation.py\", line 72, in inner_f\n",
      "    return f(**kwargs)\n",
      "  File \"/Users/oskar/opt/anaconda3/lib/python3.8/site-packages/sklearn/utils/validation.py\", line 598, in check_array\n",
      "    array = np.asarray(array, order=order, dtype=dtype)\n",
      "  File \"/Users/oskar/opt/anaconda3/lib/python3.8/site-packages/numpy/core/_asarray.py\", line 83, in asarray\n",
      "    return array(a, dtype, copy=False, order=order)\n",
      "  File \"/Users/oskar/opt/anaconda3/lib/python3.8/site-packages/pandas/core/generic.py\", line 1781, in __array__\n",
      "    return np.asarray(self._values, dtype=dtype)\n",
      "  File \"/Users/oskar/opt/anaconda3/lib/python3.8/site-packages/numpy/core/_asarray.py\", line 83, in asarray\n",
      "    return array(a, dtype, copy=False, order=order)\n",
      "ValueError: could not convert string to float: 'Bees'\n",
      "\n",
      "  warnings.warn(\"Estimator fit failed. The score on this train-test\"\n",
      "nan accuracy with a standard deviation of nan\n",
      "/Users/oskar/opt/anaconda3/lib/python3.8/site-packages/sklearn/model_selection/_validation.py:548: FitFailedWarning: Estimator fit failed. The score on this train-test partition for these parameters will be set to nan. Details: \n",
      "Traceback (most recent call last):\n",
      "  File \"/Users/oskar/opt/anaconda3/lib/python3.8/site-packages/sklearn/model_selection/_validation.py\", line 531, in _fit_and_score\n",
      "    estimator.fit(X_train, y_train, **fit_params)\n",
      "  File \"/Users/oskar/opt/anaconda3/lib/python3.8/site-packages/sklearn/pipeline.py\", line 335, in fit\n",
      "    self._final_estimator.fit(Xt, y, **fit_params_last_step)\n",
      "  File \"/Users/oskar/opt/anaconda3/lib/python3.8/site-packages/sklearn/neural_network/_multilayer_perceptron.py\", line 1027, in fit\n",
      "    return self._fit(X, y, incremental=(self.warm_start and\n",
      "  File \"/Users/oskar/opt/anaconda3/lib/python3.8/site-packages/sklearn/neural_network/_multilayer_perceptron.py\", line 326, in _fit\n",
      "    X, y = self._validate_input(X, y, incremental)\n",
      "  File \"/Users/oskar/opt/anaconda3/lib/python3.8/site-packages/sklearn/neural_network/_multilayer_perceptron.py\", line 964, in _validate_input\n",
      "    X, y = self._validate_data(X, y, accept_sparse=['csr', 'csc'],\n",
      "  File \"/Users/oskar/opt/anaconda3/lib/python3.8/site-packages/sklearn/base.py\", line 432, in _validate_data\n",
      "    X, y = check_X_y(X, y, **check_params)\n",
      "  File \"/Users/oskar/opt/anaconda3/lib/python3.8/site-packages/sklearn/utils/validation.py\", line 72, in inner_f\n",
      "    return f(**kwargs)\n",
      "  File \"/Users/oskar/opt/anaconda3/lib/python3.8/site-packages/sklearn/utils/validation.py\", line 795, in check_X_y\n",
      "    X = check_array(X, accept_sparse=accept_sparse,\n",
      "  File \"/Users/oskar/opt/anaconda3/lib/python3.8/site-packages/sklearn/utils/validation.py\", line 72, in inner_f\n",
      "    return f(**kwargs)\n",
      "  File \"/Users/oskar/opt/anaconda3/lib/python3.8/site-packages/sklearn/utils/validation.py\", line 598, in check_array\n",
      "    array = np.asarray(array, order=order, dtype=dtype)\n",
      "  File \"/Users/oskar/opt/anaconda3/lib/python3.8/site-packages/numpy/core/_asarray.py\", line 83, in asarray\n",
      "    return array(a, dtype, copy=False, order=order)\n",
      "  File \"/Users/oskar/opt/anaconda3/lib/python3.8/site-packages/pandas/core/generic.py\", line 1781, in __array__\n",
      "    return np.asarray(self._values, dtype=dtype)\n",
      "  File \"/Users/oskar/opt/anaconda3/lib/python3.8/site-packages/numpy/core/_asarray.py\", line 83, in asarray\n",
      "    return array(a, dtype, copy=False, order=order)\n",
      "ValueError: could not convert string to float: 'Bees'\n",
      "\n",
      "  warnings.warn(\"Estimator fit failed. The score on this train-test\"\n",
      "/Users/oskar/opt/anaconda3/lib/python3.8/site-packages/sklearn/model_selection/_validation.py:548: FitFailedWarning: Estimator fit failed. The score on this train-test partition for these parameters will be set to nan. Details: \n",
      "Traceback (most recent call last):\n",
      "  File \"/Users/oskar/opt/anaconda3/lib/python3.8/site-packages/sklearn/model_selection/_validation.py\", line 531, in _fit_and_score\n",
      "    estimator.fit(X_train, y_train, **fit_params)\n",
      "  File \"/Users/oskar/opt/anaconda3/lib/python3.8/site-packages/sklearn/pipeline.py\", line 335, in fit\n",
      "    self._final_estimator.fit(Xt, y, **fit_params_last_step)\n",
      "  File \"/Users/oskar/opt/anaconda3/lib/python3.8/site-packages/sklearn/neural_network/_multilayer_perceptron.py\", line 1027, in fit\n",
      "    return self._fit(X, y, incremental=(self.warm_start and\n",
      "  File \"/Users/oskar/opt/anaconda3/lib/python3.8/site-packages/sklearn/neural_network/_multilayer_perceptron.py\", line 326, in _fit\n",
      "    X, y = self._validate_input(X, y, incremental)\n",
      "  File \"/Users/oskar/opt/anaconda3/lib/python3.8/site-packages/sklearn/neural_network/_multilayer_perceptron.py\", line 964, in _validate_input\n",
      "    X, y = self._validate_data(X, y, accept_sparse=['csr', 'csc'],\n",
      "  File \"/Users/oskar/opt/anaconda3/lib/python3.8/site-packages/sklearn/base.py\", line 432, in _validate_data\n",
      "    X, y = check_X_y(X, y, **check_params)\n",
      "  File \"/Users/oskar/opt/anaconda3/lib/python3.8/site-packages/sklearn/utils/validation.py\", line 72, in inner_f\n",
      "    return f(**kwargs)\n",
      "  File \"/Users/oskar/opt/anaconda3/lib/python3.8/site-packages/sklearn/utils/validation.py\", line 795, in check_X_y\n",
      "    X = check_array(X, accept_sparse=accept_sparse,\n",
      "  File \"/Users/oskar/opt/anaconda3/lib/python3.8/site-packages/sklearn/utils/validation.py\", line 72, in inner_f\n",
      "    return f(**kwargs)\n",
      "  File \"/Users/oskar/opt/anaconda3/lib/python3.8/site-packages/sklearn/utils/validation.py\", line 598, in check_array\n",
      "    array = np.asarray(array, order=order, dtype=dtype)\n",
      "  File \"/Users/oskar/opt/anaconda3/lib/python3.8/site-packages/numpy/core/_asarray.py\", line 83, in asarray\n",
      "    return array(a, dtype, copy=False, order=order)\n",
      "  File \"/Users/oskar/opt/anaconda3/lib/python3.8/site-packages/pandas/core/generic.py\", line 1781, in __array__\n",
      "    return np.asarray(self._values, dtype=dtype)\n",
      "  File \"/Users/oskar/opt/anaconda3/lib/python3.8/site-packages/numpy/core/_asarray.py\", line 83, in asarray\n",
      "    return array(a, dtype, copy=False, order=order)\n",
      "ValueError: could not convert string to float: 'Bees'\n",
      "\n",
      "  warnings.warn(\"Estimator fit failed. The score on this train-test\"\n",
      "/Users/oskar/opt/anaconda3/lib/python3.8/site-packages/sklearn/model_selection/_validation.py:548: FitFailedWarning: Estimator fit failed. The score on this train-test partition for these parameters will be set to nan. Details: \n",
      "Traceback (most recent call last):\n",
      "  File \"/Users/oskar/opt/anaconda3/lib/python3.8/site-packages/sklearn/model_selection/_validation.py\", line 531, in _fit_and_score\n",
      "    estimator.fit(X_train, y_train, **fit_params)\n",
      "  File \"/Users/oskar/opt/anaconda3/lib/python3.8/site-packages/sklearn/pipeline.py\", line 335, in fit\n",
      "    self._final_estimator.fit(Xt, y, **fit_params_last_step)\n",
      "  File \"/Users/oskar/opt/anaconda3/lib/python3.8/site-packages/sklearn/neural_network/_multilayer_perceptron.py\", line 1027, in fit\n",
      "    return self._fit(X, y, incremental=(self.warm_start and\n",
      "  File \"/Users/oskar/opt/anaconda3/lib/python3.8/site-packages/sklearn/neural_network/_multilayer_perceptron.py\", line 326, in _fit\n",
      "    X, y = self._validate_input(X, y, incremental)\n",
      "  File \"/Users/oskar/opt/anaconda3/lib/python3.8/site-packages/sklearn/neural_network/_multilayer_perceptron.py\", line 964, in _validate_input\n",
      "    X, y = self._validate_data(X, y, accept_sparse=['csr', 'csc'],\n",
      "  File \"/Users/oskar/opt/anaconda3/lib/python3.8/site-packages/sklearn/base.py\", line 432, in _validate_data\n",
      "    X, y = check_X_y(X, y, **check_params)\n",
      "  File \"/Users/oskar/opt/anaconda3/lib/python3.8/site-packages/sklearn/utils/validation.py\", line 72, in inner_f\n",
      "    return f(**kwargs)\n",
      "  File \"/Users/oskar/opt/anaconda3/lib/python3.8/site-packages/sklearn/utils/validation.py\", line 795, in check_X_y\n",
      "    X = check_array(X, accept_sparse=accept_sparse,\n",
      "  File \"/Users/oskar/opt/anaconda3/lib/python3.8/site-packages/sklearn/utils/validation.py\", line 72, in inner_f\n",
      "    return f(**kwargs)\n",
      "  File \"/Users/oskar/opt/anaconda3/lib/python3.8/site-packages/sklearn/utils/validation.py\", line 598, in check_array\n",
      "    array = np.asarray(array, order=order, dtype=dtype)\n",
      "  File \"/Users/oskar/opt/anaconda3/lib/python3.8/site-packages/numpy/core/_asarray.py\", line 83, in asarray\n",
      "    return array(a, dtype, copy=False, order=order)\n",
      "  File \"/Users/oskar/opt/anaconda3/lib/python3.8/site-packages/pandas/core/generic.py\", line 1781, in __array__\n",
      "    return np.asarray(self._values, dtype=dtype)\n",
      "  File \"/Users/oskar/opt/anaconda3/lib/python3.8/site-packages/numpy/core/_asarray.py\", line 83, in asarray\n",
      "    return array(a, dtype, copy=False, order=order)\n",
      "ValueError: could not convert string to float: 'Bees'\n",
      "\n",
      "  warnings.warn(\"Estimator fit failed. The score on this train-test\"\n",
      "/Users/oskar/opt/anaconda3/lib/python3.8/site-packages/sklearn/model_selection/_validation.py:548: FitFailedWarning: Estimator fit failed. The score on this train-test partition for these parameters will be set to nan. Details: \n",
      "Traceback (most recent call last):\n",
      "  File \"/Users/oskar/opt/anaconda3/lib/python3.8/site-packages/sklearn/model_selection/_validation.py\", line 531, in _fit_and_score\n",
      "    estimator.fit(X_train, y_train, **fit_params)\n",
      "  File \"/Users/oskar/opt/anaconda3/lib/python3.8/site-packages/sklearn/pipeline.py\", line 335, in fit\n",
      "    self._final_estimator.fit(Xt, y, **fit_params_last_step)\n",
      "  File \"/Users/oskar/opt/anaconda3/lib/python3.8/site-packages/sklearn/neural_network/_multilayer_perceptron.py\", line 1027, in fit\n",
      "    return self._fit(X, y, incremental=(self.warm_start and\n",
      "  File \"/Users/oskar/opt/anaconda3/lib/python3.8/site-packages/sklearn/neural_network/_multilayer_perceptron.py\", line 326, in _fit\n",
      "    X, y = self._validate_input(X, y, incremental)\n",
      "  File \"/Users/oskar/opt/anaconda3/lib/python3.8/site-packages/sklearn/neural_network/_multilayer_perceptron.py\", line 964, in _validate_input\n",
      "    X, y = self._validate_data(X, y, accept_sparse=['csr', 'csc'],\n",
      "  File \"/Users/oskar/opt/anaconda3/lib/python3.8/site-packages/sklearn/base.py\", line 432, in _validate_data\n",
      "    X, y = check_X_y(X, y, **check_params)\n",
      "  File \"/Users/oskar/opt/anaconda3/lib/python3.8/site-packages/sklearn/utils/validation.py\", line 72, in inner_f\n",
      "    return f(**kwargs)\n",
      "  File \"/Users/oskar/opt/anaconda3/lib/python3.8/site-packages/sklearn/utils/validation.py\", line 795, in check_X_y\n",
      "    X = check_array(X, accept_sparse=accept_sparse,\n",
      "  File \"/Users/oskar/opt/anaconda3/lib/python3.8/site-packages/sklearn/utils/validation.py\", line 72, in inner_f\n",
      "    return f(**kwargs)\n",
      "  File \"/Users/oskar/opt/anaconda3/lib/python3.8/site-packages/sklearn/utils/validation.py\", line 598, in check_array\n",
      "    array = np.asarray(array, order=order, dtype=dtype)\n",
      "  File \"/Users/oskar/opt/anaconda3/lib/python3.8/site-packages/numpy/core/_asarray.py\", line 83, in asarray\n",
      "    return array(a, dtype, copy=False, order=order)\n",
      "  File \"/Users/oskar/opt/anaconda3/lib/python3.8/site-packages/pandas/core/generic.py\", line 1781, in __array__\n",
      "    return np.asarray(self._values, dtype=dtype)\n",
      "  File \"/Users/oskar/opt/anaconda3/lib/python3.8/site-packages/numpy/core/_asarray.py\", line 83, in asarray\n",
      "    return array(a, dtype, copy=False, order=order)\n",
      "ValueError: could not convert string to float: 'Bees'\n",
      "\n",
      "  warnings.warn(\"Estimator fit failed. The score on this train-test\"\n",
      "/Users/oskar/opt/anaconda3/lib/python3.8/site-packages/sklearn/model_selection/_validation.py:548: FitFailedWarning: Estimator fit failed. The score on this train-test partition for these parameters will be set to nan. Details: \n",
      "Traceback (most recent call last):\n",
      "  File \"/Users/oskar/opt/anaconda3/lib/python3.8/site-packages/sklearn/model_selection/_validation.py\", line 531, in _fit_and_score\n",
      "    estimator.fit(X_train, y_train, **fit_params)\n",
      "  File \"/Users/oskar/opt/anaconda3/lib/python3.8/site-packages/sklearn/pipeline.py\", line 335, in fit\n",
      "    self._final_estimator.fit(Xt, y, **fit_params_last_step)\n",
      "  File \"/Users/oskar/opt/anaconda3/lib/python3.8/site-packages/sklearn/neural_network/_multilayer_perceptron.py\", line 1027, in fit\n",
      "    return self._fit(X, y, incremental=(self.warm_start and\n",
      "  File \"/Users/oskar/opt/anaconda3/lib/python3.8/site-packages/sklearn/neural_network/_multilayer_perceptron.py\", line 326, in _fit\n",
      "    X, y = self._validate_input(X, y, incremental)\n",
      "  File \"/Users/oskar/opt/anaconda3/lib/python3.8/site-packages/sklearn/neural_network/_multilayer_perceptron.py\", line 964, in _validate_input\n",
      "    X, y = self._validate_data(X, y, accept_sparse=['csr', 'csc'],\n",
      "  File \"/Users/oskar/opt/anaconda3/lib/python3.8/site-packages/sklearn/base.py\", line 432, in _validate_data\n",
      "    X, y = check_X_y(X, y, **check_params)\n",
      "  File \"/Users/oskar/opt/anaconda3/lib/python3.8/site-packages/sklearn/utils/validation.py\", line 72, in inner_f\n",
      "    return f(**kwargs)\n",
      "  File \"/Users/oskar/opt/anaconda3/lib/python3.8/site-packages/sklearn/utils/validation.py\", line 795, in check_X_y\n",
      "    X = check_array(X, accept_sparse=accept_sparse,\n",
      "  File \"/Users/oskar/opt/anaconda3/lib/python3.8/site-packages/sklearn/utils/validation.py\", line 72, in inner_f\n",
      "    return f(**kwargs)\n",
      "  File \"/Users/oskar/opt/anaconda3/lib/python3.8/site-packages/sklearn/utils/validation.py\", line 598, in check_array\n",
      "    array = np.asarray(array, order=order, dtype=dtype)\n",
      "  File \"/Users/oskar/opt/anaconda3/lib/python3.8/site-packages/numpy/core/_asarray.py\", line 83, in asarray\n",
      "    return array(a, dtype, copy=False, order=order)\n",
      "  File \"/Users/oskar/opt/anaconda3/lib/python3.8/site-packages/pandas/core/generic.py\", line 1781, in __array__\n",
      "    return np.asarray(self._values, dtype=dtype)\n",
      "  File \"/Users/oskar/opt/anaconda3/lib/python3.8/site-packages/numpy/core/_asarray.py\", line 83, in asarray\n",
      "    return array(a, dtype, copy=False, order=order)\n",
      "ValueError: could not convert string to float: 'Bees'\n",
      "\n",
      "  warnings.warn(\"Estimator fit failed. The score on this train-test\"\n",
      "/Users/oskar/opt/anaconda3/lib/python3.8/site-packages/sklearn/model_selection/_validation.py:548: FitFailedWarning: Estimator fit failed. The score on this train-test partition for these parameters will be set to nan. Details: \n",
      "Traceback (most recent call last):\n",
      "  File \"/Users/oskar/opt/anaconda3/lib/python3.8/site-packages/sklearn/model_selection/_validation.py\", line 531, in _fit_and_score\n",
      "    estimator.fit(X_train, y_train, **fit_params)\n",
      "  File \"/Users/oskar/opt/anaconda3/lib/python3.8/site-packages/sklearn/pipeline.py\", line 335, in fit\n",
      "    self._final_estimator.fit(Xt, y, **fit_params_last_step)\n",
      "  File \"/Users/oskar/opt/anaconda3/lib/python3.8/site-packages/sklearn/neural_network/_multilayer_perceptron.py\", line 1027, in fit\n",
      "    return self._fit(X, y, incremental=(self.warm_start and\n",
      "  File \"/Users/oskar/opt/anaconda3/lib/python3.8/site-packages/sklearn/neural_network/_multilayer_perceptron.py\", line 326, in _fit\n",
      "    X, y = self._validate_input(X, y, incremental)\n",
      "  File \"/Users/oskar/opt/anaconda3/lib/python3.8/site-packages/sklearn/neural_network/_multilayer_perceptron.py\", line 964, in _validate_input\n",
      "    X, y = self._validate_data(X, y, accept_sparse=['csr', 'csc'],\n",
      "  File \"/Users/oskar/opt/anaconda3/lib/python3.8/site-packages/sklearn/base.py\", line 432, in _validate_data\n",
      "    X, y = check_X_y(X, y, **check_params)\n",
      "  File \"/Users/oskar/opt/anaconda3/lib/python3.8/site-packages/sklearn/utils/validation.py\", line 72, in inner_f\n",
      "    return f(**kwargs)\n",
      "  File \"/Users/oskar/opt/anaconda3/lib/python3.8/site-packages/sklearn/utils/validation.py\", line 795, in check_X_y\n",
      "    X = check_array(X, accept_sparse=accept_sparse,\n",
      "  File \"/Users/oskar/opt/anaconda3/lib/python3.8/site-packages/sklearn/utils/validation.py\", line 72, in inner_f\n",
      "    return f(**kwargs)\n",
      "  File \"/Users/oskar/opt/anaconda3/lib/python3.8/site-packages/sklearn/utils/validation.py\", line 598, in check_array\n",
      "    array = np.asarray(array, order=order, dtype=dtype)\n",
      "  File \"/Users/oskar/opt/anaconda3/lib/python3.8/site-packages/numpy/core/_asarray.py\", line 83, in asarray\n",
      "    return array(a, dtype, copy=False, order=order)\n",
      "  File \"/Users/oskar/opt/anaconda3/lib/python3.8/site-packages/pandas/core/generic.py\", line 1781, in __array__\n",
      "    return np.asarray(self._values, dtype=dtype)\n",
      "  File \"/Users/oskar/opt/anaconda3/lib/python3.8/site-packages/numpy/core/_asarray.py\", line 83, in asarray\n",
      "    return array(a, dtype, copy=False, order=order)\n",
      "ValueError: could not convert string to float: 'Bees'\n",
      "\n",
      "  warnings.warn(\"Estimator fit failed. The score on this train-test\"\n"
     ]
    }
   ],
   "source": [
    "from sklearn.neural_network import MLPClassifier\n",
    "from sklearn.model_selection import cross_val_score\n",
    "from sklearn.pipeline import Pipeline\n",
    "\n",
    "mlp_pipe = Pipeline([('mlp',MLPClassifier(solver='lbfgs', alpha=1e-5, hidden_layer_sizes=(5, 2), random_state=1))])\n",
    "\n",
    "scores = cross_val_score(mlp_pipe, eu_red_list, eu_red_list.europeanRegionalRedListCategory, cv=20)\n",
    "print(\"%0.2f accuracy with a standard deviation of %0.2f\" % (scores.mean(), scores.std()))\n",
    "\n",
    "# print(eu_red_list.europeanRegionalRedListCategory)"
   ]
  },
  {
   "cell_type": "code",
   "execution_count": null,
   "metadata": {},
   "outputs": [],
   "source": []
  }
 ]
}